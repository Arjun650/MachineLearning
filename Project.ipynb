{
  "nbformat": 4,
  "nbformat_minor": 0,
  "metadata": {
    "colab": {
      "provenance": [],
      "mount_file_id": "1sHpX6-25AJjAkJpsDf3O25LGTeQZAU3k",
      "authorship_tag": "ABX9TyOhkLksm4j/6JY9D/bV88jy",
      "include_colab_link": true
    },
    "kernelspec": {
      "name": "python3",
      "display_name": "Python 3"
    },
    "language_info": {
      "name": "python"
    }
  },
  "cells": [
    {
      "cell_type": "markdown",
      "metadata": {
        "id": "view-in-github",
        "colab_type": "text"
      },
      "source": [
        "<a href=\"https://colab.research.google.com/github/Arjun650/MachineLearning/blob/main/Project.ipynb\" target=\"_parent\"><img src=\"https://colab.research.google.com/assets/colab-badge.svg\" alt=\"Open In Colab\"/></a>"
      ]
    },
    {
      "cell_type": "code",
      "execution_count": null,
      "metadata": {
        "id": "Xw-1NGzGj9BX"
      },
      "outputs": [],
      "source": [
        "import numpy as np\n",
        "import pandas as pd\n",
        "import re\n",
        "import string\n",
        "from nltk.corpus import stopwords\n",
        "from nltk.stem import PorterStemmer, WordNetLemmatizer\n",
        "from sklearn.feature_extraction.text import TfidfVectorizer\n",
        "from sklearn.model_selection import train_test_split\n",
        "from sklearn.tree import DecisionTreeClassifier\n",
        "from sklearn.svm import SVC\n",
        "from sklearn.model_selection import GridSearchCV\n",
        "from sklearn.model_selection import RandomizedSearchCV\n",
        "from sklearn.ensemble import AdaBoostClassifier\n",
        "from sklearn.naive_bayes import GaussianNB\n",
        "\n",
        "import xgboost as xgb\n",
        "from sklearn.ensemble import RandomForestClassifier\n",
        "from sklearn.linear_model import LogisticRegression\n",
        "from sklearn.model_selection import cross_val_score\n",
        "from sklearn.preprocessing import StandardScaler\n",
        "from nltk.tokenize import word_tokenize\n",
        "from sklearn.metrics import accuracy_score\n",
        "from sklearn.neighbors import KNeighborsClassifier\n",
        "from catboost import CatBoostClassifier\n",
        "\n",
        "from sklearn.metrics import accuracy_score, confusion_matrix\n",
        "import seaborn as sns\n",
        "import matplotlib.pyplot as plt"
      ]
    },
    {
      "cell_type": "code",
      "source": [
        "!pip install catboost\n"
      ],
      "metadata": {
        "colab": {
          "base_uri": "https://localhost:8080/"
        },
        "id": "UHyO43amgyoa",
        "outputId": "2ae71c5a-c542-4143-faa4-222e3cb642cc"
      },
      "execution_count": null,
      "outputs": [
        {
          "output_type": "stream",
          "name": "stdout",
          "text": [
            "Collecting catboost\n",
            "  Downloading catboost-1.2.7-cp310-cp310-manylinux2014_x86_64.whl.metadata (1.2 kB)\n",
            "Requirement already satisfied: graphviz in /usr/local/lib/python3.10/dist-packages (from catboost) (0.20.3)\n",
            "Requirement already satisfied: matplotlib in /usr/local/lib/python3.10/dist-packages (from catboost) (3.7.1)\n",
            "Requirement already satisfied: numpy<2.0,>=1.16.0 in /usr/local/lib/python3.10/dist-packages (from catboost) (1.26.4)\n",
            "Requirement already satisfied: pandas>=0.24 in /usr/local/lib/python3.10/dist-packages (from catboost) (2.1.4)\n",
            "Requirement already satisfied: scipy in /usr/local/lib/python3.10/dist-packages (from catboost) (1.13.1)\n",
            "Requirement already satisfied: plotly in /usr/local/lib/python3.10/dist-packages (from catboost) (5.24.1)\n",
            "Requirement already satisfied: six in /usr/local/lib/python3.10/dist-packages (from catboost) (1.16.0)\n",
            "Requirement already satisfied: python-dateutil>=2.8.2 in /usr/local/lib/python3.10/dist-packages (from pandas>=0.24->catboost) (2.8.2)\n",
            "Requirement already satisfied: pytz>=2020.1 in /usr/local/lib/python3.10/dist-packages (from pandas>=0.24->catboost) (2024.2)\n",
            "Requirement already satisfied: tzdata>=2022.1 in /usr/local/lib/python3.10/dist-packages (from pandas>=0.24->catboost) (2024.1)\n",
            "Requirement already satisfied: contourpy>=1.0.1 in /usr/local/lib/python3.10/dist-packages (from matplotlib->catboost) (1.3.0)\n",
            "Requirement already satisfied: cycler>=0.10 in /usr/local/lib/python3.10/dist-packages (from matplotlib->catboost) (0.12.1)\n",
            "Requirement already satisfied: fonttools>=4.22.0 in /usr/local/lib/python3.10/dist-packages (from matplotlib->catboost) (4.53.1)\n",
            "Requirement already satisfied: kiwisolver>=1.0.1 in /usr/local/lib/python3.10/dist-packages (from matplotlib->catboost) (1.4.7)\n",
            "Requirement already satisfied: packaging>=20.0 in /usr/local/lib/python3.10/dist-packages (from matplotlib->catboost) (24.1)\n",
            "Requirement already satisfied: pillow>=6.2.0 in /usr/local/lib/python3.10/dist-packages (from matplotlib->catboost) (10.4.0)\n",
            "Requirement already satisfied: pyparsing>=2.3.1 in /usr/local/lib/python3.10/dist-packages (from matplotlib->catboost) (3.1.4)\n",
            "Requirement already satisfied: tenacity>=6.2.0 in /usr/local/lib/python3.10/dist-packages (from plotly->catboost) (9.0.0)\n",
            "Downloading catboost-1.2.7-cp310-cp310-manylinux2014_x86_64.whl (98.7 MB)\n",
            "\u001b[2K   \u001b[90m━━━━━━━━━━━━━━━━━━━━━━━━━━━━━━━━━━━━━━━━\u001b[0m \u001b[32m98.7/98.7 MB\u001b[0m \u001b[31m8.7 MB/s\u001b[0m eta \u001b[36m0:00:00\u001b[0m\n",
            "\u001b[?25hInstalling collected packages: catboost\n",
            "Successfully installed catboost-1.2.7\n"
          ]
        }
      ]
    },
    {
      "cell_type": "code",
      "source": [
        "!pip install xgboost\n"
      ],
      "metadata": {
        "colab": {
          "base_uri": "https://localhost:8080/"
        },
        "id": "ST7ZWlihiTRh",
        "outputId": "e45abe40-7568-4a80-b772-a0695ad378b4"
      },
      "execution_count": null,
      "outputs": [
        {
          "output_type": "stream",
          "name": "stdout",
          "text": [
            "Requirement already satisfied: xgboost in /usr/local/lib/python3.10/dist-packages (2.1.1)\n",
            "Requirement already satisfied: numpy in /usr/local/lib/python3.10/dist-packages (from xgboost) (1.26.4)\n",
            "Requirement already satisfied: nvidia-nccl-cu12 in /usr/local/lib/python3.10/dist-packages (from xgboost) (2.23.4)\n",
            "Requirement already satisfied: scipy in /usr/local/lib/python3.10/dist-packages (from xgboost) (1.13.1)\n"
          ]
        }
      ]
    },
    {
      "cell_type": "code",
      "source": [
        "import nltk\n",
        "nltk.download('stopwords')\n",
        "nltk.download('punkt')"
      ],
      "metadata": {
        "colab": {
          "base_uri": "https://localhost:8080/"
        },
        "id": "y9EL-go5tF9e",
        "outputId": "be3dcb92-87bc-4d03-a822-99f23b2b9c4c"
      },
      "execution_count": null,
      "outputs": [
        {
          "output_type": "stream",
          "name": "stderr",
          "text": [
            "[nltk_data] Downloading package stopwords to /root/nltk_data...\n",
            "[nltk_data]   Unzipping corpora/stopwords.zip.\n",
            "[nltk_data] Downloading package punkt to /root/nltk_data...\n",
            "[nltk_data]   Unzipping tokenizers/punkt.zip.\n"
          ]
        },
        {
          "output_type": "execute_result",
          "data": {
            "text/plain": [
              "True"
            ]
          },
          "metadata": {},
          "execution_count": 2
        }
      ]
    },
    {
      "cell_type": "code",
      "source": [
        "# print(stopwords.words('english')) printing the stopwords in english"
      ],
      "metadata": {
        "id": "i7rtWFuVv7W-"
      },
      "execution_count": null,
      "outputs": []
    },
    {
      "cell_type": "markdown",
      "source": [
        "**Data Preprocessing**\n"
      ],
      "metadata": {
        "id": "x-AP3jsEwMRC"
      }
    },
    {
      "cell_type": "code",
      "source": [
        "# loading the dataset to a pandas Dataframe\n",
        "\n",
        "viva_dataset = pd.read_csv('/content/drive/MyDrive/grouped_transcripts_with_timestamps.csv')"
      ],
      "metadata": {
        "id": "yLImhk-kwDiE"
      },
      "execution_count": null,
      "outputs": []
    },
    {
      "cell_type": "code",
      "source": [
        "viva_dataset.shape"
      ],
      "metadata": {
        "colab": {
          "base_uri": "https://localhost:8080/"
        },
        "id": "-VUI6_Exw9wR",
        "outputId": "d8ac5c72-324e-450d-ff79-e1022c707b6a"
      },
      "execution_count": null,
      "outputs": [
        {
          "output_type": "execute_result",
          "data": {
            "text/plain": [
              "(2171, 4)"
            ]
          },
          "metadata": {},
          "execution_count": 5
        }
      ]
    },
    {
      "cell_type": "code",
      "source": [
        "viva_dataset.head()"
      ],
      "metadata": {
        "colab": {
          "base_uri": "https://localhost:8080/",
          "height": 206
        },
        "id": "XKg767q9xTPx",
        "outputId": "3ee6ed26-0b32-40b6-e708-26af00f4b531"
      },
      "execution_count": null,
      "outputs": [
        {
          "output_type": "execute_result",
          "data": {
            "text/plain": [
              "  Start Time Stamp End Time Stamp      Label  \\\n",
              "0         00:00:04       00:00:15  Statement   \n",
              "1         00:00:19       00:00:19   Question   \n",
              "2         00:00:26       00:00:26     Answer   \n",
              "3         00:00:33       00:00:39  Statement   \n",
              "4         00:00:41       00:00:41   Question   \n",
              "\n",
              "                                          Transcript  \n",
              "0  Yeah. So can you tell me now? We'll go one aft...  \n",
              "1                What is sampling? What is sampling?  \n",
              "2  Sampling means it is the process of converting...  \n",
              "3  OK. So suppose you sample a signal at. 10 kilo...  \n",
              "4  What is the maximum frequency which will be av...  "
            ],
            "text/html": [
              "\n",
              "  <div id=\"df-5975e9da-9bad-45c6-b2b8-bbd3a1ac468e\" class=\"colab-df-container\">\n",
              "    <div>\n",
              "<style scoped>\n",
              "    .dataframe tbody tr th:only-of-type {\n",
              "        vertical-align: middle;\n",
              "    }\n",
              "\n",
              "    .dataframe tbody tr th {\n",
              "        vertical-align: top;\n",
              "    }\n",
              "\n",
              "    .dataframe thead th {\n",
              "        text-align: right;\n",
              "    }\n",
              "</style>\n",
              "<table border=\"1\" class=\"dataframe\">\n",
              "  <thead>\n",
              "    <tr style=\"text-align: right;\">\n",
              "      <th></th>\n",
              "      <th>Start Time Stamp</th>\n",
              "      <th>End Time Stamp</th>\n",
              "      <th>Label</th>\n",
              "      <th>Transcript</th>\n",
              "    </tr>\n",
              "  </thead>\n",
              "  <tbody>\n",
              "    <tr>\n",
              "      <th>0</th>\n",
              "      <td>00:00:04</td>\n",
              "      <td>00:00:15</td>\n",
              "      <td>Statement</td>\n",
              "      <td>Yeah. So can you tell me now? We'll go one aft...</td>\n",
              "    </tr>\n",
              "    <tr>\n",
              "      <th>1</th>\n",
              "      <td>00:00:19</td>\n",
              "      <td>00:00:19</td>\n",
              "      <td>Question</td>\n",
              "      <td>What is sampling? What is sampling?</td>\n",
              "    </tr>\n",
              "    <tr>\n",
              "      <th>2</th>\n",
              "      <td>00:00:26</td>\n",
              "      <td>00:00:26</td>\n",
              "      <td>Answer</td>\n",
              "      <td>Sampling means it is the process of converting...</td>\n",
              "    </tr>\n",
              "    <tr>\n",
              "      <th>3</th>\n",
              "      <td>00:00:33</td>\n",
              "      <td>00:00:39</td>\n",
              "      <td>Statement</td>\n",
              "      <td>OK. So suppose you sample a signal at. 10 kilo...</td>\n",
              "    </tr>\n",
              "    <tr>\n",
              "      <th>4</th>\n",
              "      <td>00:00:41</td>\n",
              "      <td>00:00:41</td>\n",
              "      <td>Question</td>\n",
              "      <td>What is the maximum frequency which will be av...</td>\n",
              "    </tr>\n",
              "  </tbody>\n",
              "</table>\n",
              "</div>\n",
              "    <div class=\"colab-df-buttons\">\n",
              "\n",
              "  <div class=\"colab-df-container\">\n",
              "    <button class=\"colab-df-convert\" onclick=\"convertToInteractive('df-5975e9da-9bad-45c6-b2b8-bbd3a1ac468e')\"\n",
              "            title=\"Convert this dataframe to an interactive table.\"\n",
              "            style=\"display:none;\">\n",
              "\n",
              "  <svg xmlns=\"http://www.w3.org/2000/svg\" height=\"24px\" viewBox=\"0 -960 960 960\">\n",
              "    <path d=\"M120-120v-720h720v720H120Zm60-500h600v-160H180v160Zm220 220h160v-160H400v160Zm0 220h160v-160H400v160ZM180-400h160v-160H180v160Zm440 0h160v-160H620v160ZM180-180h160v-160H180v160Zm440 0h160v-160H620v160Z\"/>\n",
              "  </svg>\n",
              "    </button>\n",
              "\n",
              "  <style>\n",
              "    .colab-df-container {\n",
              "      display:flex;\n",
              "      gap: 12px;\n",
              "    }\n",
              "\n",
              "    .colab-df-convert {\n",
              "      background-color: #E8F0FE;\n",
              "      border: none;\n",
              "      border-radius: 50%;\n",
              "      cursor: pointer;\n",
              "      display: none;\n",
              "      fill: #1967D2;\n",
              "      height: 32px;\n",
              "      padding: 0 0 0 0;\n",
              "      width: 32px;\n",
              "    }\n",
              "\n",
              "    .colab-df-convert:hover {\n",
              "      background-color: #E2EBFA;\n",
              "      box-shadow: 0px 1px 2px rgba(60, 64, 67, 0.3), 0px 1px 3px 1px rgba(60, 64, 67, 0.15);\n",
              "      fill: #174EA6;\n",
              "    }\n",
              "\n",
              "    .colab-df-buttons div {\n",
              "      margin-bottom: 4px;\n",
              "    }\n",
              "\n",
              "    [theme=dark] .colab-df-convert {\n",
              "      background-color: #3B4455;\n",
              "      fill: #D2E3FC;\n",
              "    }\n",
              "\n",
              "    [theme=dark] .colab-df-convert:hover {\n",
              "      background-color: #434B5C;\n",
              "      box-shadow: 0px 1px 3px 1px rgba(0, 0, 0, 0.15);\n",
              "      filter: drop-shadow(0px 1px 2px rgba(0, 0, 0, 0.3));\n",
              "      fill: #FFFFFF;\n",
              "    }\n",
              "  </style>\n",
              "\n",
              "    <script>\n",
              "      const buttonEl =\n",
              "        document.querySelector('#df-5975e9da-9bad-45c6-b2b8-bbd3a1ac468e button.colab-df-convert');\n",
              "      buttonEl.style.display =\n",
              "        google.colab.kernel.accessAllowed ? 'block' : 'none';\n",
              "\n",
              "      async function convertToInteractive(key) {\n",
              "        const element = document.querySelector('#df-5975e9da-9bad-45c6-b2b8-bbd3a1ac468e');\n",
              "        const dataTable =\n",
              "          await google.colab.kernel.invokeFunction('convertToInteractive',\n",
              "                                                    [key], {});\n",
              "        if (!dataTable) return;\n",
              "\n",
              "        const docLinkHtml = 'Like what you see? Visit the ' +\n",
              "          '<a target=\"_blank\" href=https://colab.research.google.com/notebooks/data_table.ipynb>data table notebook</a>'\n",
              "          + ' to learn more about interactive tables.';\n",
              "        element.innerHTML = '';\n",
              "        dataTable['output_type'] = 'display_data';\n",
              "        await google.colab.output.renderOutput(dataTable, element);\n",
              "        const docLink = document.createElement('div');\n",
              "        docLink.innerHTML = docLinkHtml;\n",
              "        element.appendChild(docLink);\n",
              "      }\n",
              "    </script>\n",
              "  </div>\n",
              "\n",
              "\n",
              "<div id=\"df-4db62354-7ba0-47c4-8aab-cd0fc8460c49\">\n",
              "  <button class=\"colab-df-quickchart\" onclick=\"quickchart('df-4db62354-7ba0-47c4-8aab-cd0fc8460c49')\"\n",
              "            title=\"Suggest charts\"\n",
              "            style=\"display:none;\">\n",
              "\n",
              "<svg xmlns=\"http://www.w3.org/2000/svg\" height=\"24px\"viewBox=\"0 0 24 24\"\n",
              "     width=\"24px\">\n",
              "    <g>\n",
              "        <path d=\"M19 3H5c-1.1 0-2 .9-2 2v14c0 1.1.9 2 2 2h14c1.1 0 2-.9 2-2V5c0-1.1-.9-2-2-2zM9 17H7v-7h2v7zm4 0h-2V7h2v10zm4 0h-2v-4h2v4z\"/>\n",
              "    </g>\n",
              "</svg>\n",
              "  </button>\n",
              "\n",
              "<style>\n",
              "  .colab-df-quickchart {\n",
              "      --bg-color: #E8F0FE;\n",
              "      --fill-color: #1967D2;\n",
              "      --hover-bg-color: #E2EBFA;\n",
              "      --hover-fill-color: #174EA6;\n",
              "      --disabled-fill-color: #AAA;\n",
              "      --disabled-bg-color: #DDD;\n",
              "  }\n",
              "\n",
              "  [theme=dark] .colab-df-quickchart {\n",
              "      --bg-color: #3B4455;\n",
              "      --fill-color: #D2E3FC;\n",
              "      --hover-bg-color: #434B5C;\n",
              "      --hover-fill-color: #FFFFFF;\n",
              "      --disabled-bg-color: #3B4455;\n",
              "      --disabled-fill-color: #666;\n",
              "  }\n",
              "\n",
              "  .colab-df-quickchart {\n",
              "    background-color: var(--bg-color);\n",
              "    border: none;\n",
              "    border-radius: 50%;\n",
              "    cursor: pointer;\n",
              "    display: none;\n",
              "    fill: var(--fill-color);\n",
              "    height: 32px;\n",
              "    padding: 0;\n",
              "    width: 32px;\n",
              "  }\n",
              "\n",
              "  .colab-df-quickchart:hover {\n",
              "    background-color: var(--hover-bg-color);\n",
              "    box-shadow: 0 1px 2px rgba(60, 64, 67, 0.3), 0 1px 3px 1px rgba(60, 64, 67, 0.15);\n",
              "    fill: var(--button-hover-fill-color);\n",
              "  }\n",
              "\n",
              "  .colab-df-quickchart-complete:disabled,\n",
              "  .colab-df-quickchart-complete:disabled:hover {\n",
              "    background-color: var(--disabled-bg-color);\n",
              "    fill: var(--disabled-fill-color);\n",
              "    box-shadow: none;\n",
              "  }\n",
              "\n",
              "  .colab-df-spinner {\n",
              "    border: 2px solid var(--fill-color);\n",
              "    border-color: transparent;\n",
              "    border-bottom-color: var(--fill-color);\n",
              "    animation:\n",
              "      spin 1s steps(1) infinite;\n",
              "  }\n",
              "\n",
              "  @keyframes spin {\n",
              "    0% {\n",
              "      border-color: transparent;\n",
              "      border-bottom-color: var(--fill-color);\n",
              "      border-left-color: var(--fill-color);\n",
              "    }\n",
              "    20% {\n",
              "      border-color: transparent;\n",
              "      border-left-color: var(--fill-color);\n",
              "      border-top-color: var(--fill-color);\n",
              "    }\n",
              "    30% {\n",
              "      border-color: transparent;\n",
              "      border-left-color: var(--fill-color);\n",
              "      border-top-color: var(--fill-color);\n",
              "      border-right-color: var(--fill-color);\n",
              "    }\n",
              "    40% {\n",
              "      border-color: transparent;\n",
              "      border-right-color: var(--fill-color);\n",
              "      border-top-color: var(--fill-color);\n",
              "    }\n",
              "    60% {\n",
              "      border-color: transparent;\n",
              "      border-right-color: var(--fill-color);\n",
              "    }\n",
              "    80% {\n",
              "      border-color: transparent;\n",
              "      border-right-color: var(--fill-color);\n",
              "      border-bottom-color: var(--fill-color);\n",
              "    }\n",
              "    90% {\n",
              "      border-color: transparent;\n",
              "      border-bottom-color: var(--fill-color);\n",
              "    }\n",
              "  }\n",
              "</style>\n",
              "\n",
              "  <script>\n",
              "    async function quickchart(key) {\n",
              "      const quickchartButtonEl =\n",
              "        document.querySelector('#' + key + ' button');\n",
              "      quickchartButtonEl.disabled = true;  // To prevent multiple clicks.\n",
              "      quickchartButtonEl.classList.add('colab-df-spinner');\n",
              "      try {\n",
              "        const charts = await google.colab.kernel.invokeFunction(\n",
              "            'suggestCharts', [key], {});\n",
              "      } catch (error) {\n",
              "        console.error('Error during call to suggestCharts:', error);\n",
              "      }\n",
              "      quickchartButtonEl.classList.remove('colab-df-spinner');\n",
              "      quickchartButtonEl.classList.add('colab-df-quickchart-complete');\n",
              "    }\n",
              "    (() => {\n",
              "      let quickchartButtonEl =\n",
              "        document.querySelector('#df-4db62354-7ba0-47c4-8aab-cd0fc8460c49 button');\n",
              "      quickchartButtonEl.style.display =\n",
              "        google.colab.kernel.accessAllowed ? 'block' : 'none';\n",
              "    })();\n",
              "  </script>\n",
              "</div>\n",
              "\n",
              "    </div>\n",
              "  </div>\n"
            ],
            "application/vnd.google.colaboratory.intrinsic+json": {
              "type": "dataframe",
              "variable_name": "viva_dataset",
              "summary": "{\n  \"name\": \"viva_dataset\",\n  \"rows\": 2171,\n  \"fields\": [\n    {\n      \"column\": \"Start Time Stamp\",\n      \"properties\": {\n        \"dtype\": \"object\",\n        \"num_unique_values\": 813,\n        \"samples\": [\n          \"00:08:22\",\n          \"00:07:03\",\n          \"00:03:32\"\n        ],\n        \"semantic_type\": \"\",\n        \"description\": \"\"\n      }\n    },\n    {\n      \"column\": \"End Time Stamp\",\n      \"properties\": {\n        \"dtype\": \"object\",\n        \"num_unique_values\": 814,\n        \"samples\": [\n          \"00:06:46\",\n          \"00:11:37\",\n          \"00:03:21\"\n        ],\n        \"semantic_type\": \"\",\n        \"description\": \"\"\n      }\n    },\n    {\n      \"column\": \"Label\",\n      \"properties\": {\n        \"dtype\": \"category\",\n        \"num_unique_values\": 3,\n        \"samples\": [\n          \"Statement\",\n          \"Question\",\n          \"Answer\"\n        ],\n        \"semantic_type\": \"\",\n        \"description\": \"\"\n      }\n    },\n    {\n      \"column\": \"Transcript\",\n      \"properties\": {\n        \"dtype\": \"string\",\n        \"num_unique_values\": 1905,\n        \"samples\": [\n          \"OK, how does it help us?\",\n          \"Why?\",\n          \"Vinay, tell me, what is the difference between Fourier transform and short time Fourier transform?\"\n        ],\n        \"semantic_type\": \"\",\n        \"description\": \"\"\n      }\n    }\n  ]\n}"
            }
          },
          "metadata": {},
          "execution_count": 6
        }
      ]
    },
    {
      "cell_type": "code",
      "source": [
        "label_mapping = {\"Statement\" : 1, \"Question\" : 2, \"Answer\" : 0}\n",
        "viva_dataset['Label_Num'] = viva_dataset['Label'].map(label_mapping)\n",
        "print(viva_dataset.head())"
      ],
      "metadata": {
        "colab": {
          "base_uri": "https://localhost:8080/"
        },
        "id": "IQBXANe1xYss",
        "outputId": "5af4815d-5cdf-4cee-bcfc-419d27558bf1"
      },
      "execution_count": null,
      "outputs": [
        {
          "output_type": "stream",
          "name": "stdout",
          "text": [
            "  Start Time Stamp End Time Stamp      Label  \\\n",
            "0         00:00:04       00:00:15  Statement   \n",
            "1         00:00:19       00:00:19   Question   \n",
            "2         00:00:26       00:00:26     Answer   \n",
            "3         00:00:33       00:00:39  Statement   \n",
            "4         00:00:41       00:00:41   Question   \n",
            "\n",
            "                                          Transcript  Label_Num  \n",
            "0  Yeah. So can you tell me now? We'll go one aft...          1  \n",
            "1                What is sampling? What is sampling?          2  \n",
            "2  Sampling means it is the process of converting...          0  \n",
            "3  OK. So suppose you sample a signal at. 10 kilo...          1  \n",
            "4  What is the maximum frequency which will be av...          2  \n"
          ]
        }
      ]
    },
    {
      "cell_type": "code",
      "source": [
        "# counting the no. of missing values in dataset\n",
        "viva_dataset.isnull().sum()\n"
      ],
      "metadata": {
        "colab": {
          "base_uri": "https://localhost:8080/",
          "height": 241
        },
        "id": "1mZ9meWlzlga",
        "outputId": "bafbb977-3a71-4f4e-cbcf-e8e7946681ef"
      },
      "execution_count": null,
      "outputs": [
        {
          "output_type": "execute_result",
          "data": {
            "text/plain": [
              "Start Time Stamp    0\n",
              "End Time Stamp      0\n",
              "Label               0\n",
              "Transcript          0\n",
              "Label_Num           0\n",
              "dtype: int64"
            ],
            "text/html": [
              "<div>\n",
              "<style scoped>\n",
              "    .dataframe tbody tr th:only-of-type {\n",
              "        vertical-align: middle;\n",
              "    }\n",
              "\n",
              "    .dataframe tbody tr th {\n",
              "        vertical-align: top;\n",
              "    }\n",
              "\n",
              "    .dataframe thead th {\n",
              "        text-align: right;\n",
              "    }\n",
              "</style>\n",
              "<table border=\"1\" class=\"dataframe\">\n",
              "  <thead>\n",
              "    <tr style=\"text-align: right;\">\n",
              "      <th></th>\n",
              "      <th>0</th>\n",
              "    </tr>\n",
              "  </thead>\n",
              "  <tbody>\n",
              "    <tr>\n",
              "      <th>Start Time Stamp</th>\n",
              "      <td>0</td>\n",
              "    </tr>\n",
              "    <tr>\n",
              "      <th>End Time Stamp</th>\n",
              "      <td>0</td>\n",
              "    </tr>\n",
              "    <tr>\n",
              "      <th>Label</th>\n",
              "      <td>0</td>\n",
              "    </tr>\n",
              "    <tr>\n",
              "      <th>Transcript</th>\n",
              "      <td>0</td>\n",
              "    </tr>\n",
              "    <tr>\n",
              "      <th>Label_Num</th>\n",
              "      <td>0</td>\n",
              "    </tr>\n",
              "  </tbody>\n",
              "</table>\n",
              "</div><br><label><b>dtype:</b> int64</label>"
            ]
          },
          "metadata": {},
          "execution_count": 8
        }
      ]
    },
    {
      "cell_type": "code",
      "source": [
        "# seperating the data and label\n",
        "X = viva_dataset.drop(columns = 'Label_Num')\n",
        "Y = viva_dataset['Label_Num']\n"
      ],
      "metadata": {
        "id": "dxhhAku90zSK"
      },
      "execution_count": null,
      "outputs": []
    },
    {
      "cell_type": "code",
      "source": [
        "print(X)\n",
        "print(Y)"
      ],
      "metadata": {
        "colab": {
          "base_uri": "https://localhost:8080/"
        },
        "id": "hrNwX1CN22Kx",
        "outputId": "73b190a9-c116-43b3-fcea-f77b78f10dd9"
      },
      "execution_count": null,
      "outputs": [
        {
          "output_type": "stream",
          "name": "stdout",
          "text": [
            "     Start Time Stamp End Time Stamp      Label  \\\n",
            "0            00:00:04       00:00:15  Statement   \n",
            "1            00:00:19       00:00:19   Question   \n",
            "2            00:00:26       00:00:26     Answer   \n",
            "3            00:00:33       00:00:39  Statement   \n",
            "4            00:00:41       00:00:41   Question   \n",
            "...               ...            ...        ...   \n",
            "2166         00:10:22       00:10:22   Question   \n",
            "2167         00:10:24       00:10:24     Answer   \n",
            "2168         00:10:28       00:10:29  Statement   \n",
            "2169         00:10:32       00:10:32   Question   \n",
            "2170         00:10:33       00:10:36  Statement   \n",
            "\n",
            "                                             Transcript  \n",
            "0     Yeah. So can you tell me now? We'll go one aft...  \n",
            "1                   What is sampling? What is sampling?  \n",
            "2     Sampling means it is the process of converting...  \n",
            "3     OK. So suppose you sample a signal at. 10 kilo...  \n",
            "4     What is the maximum frequency which will be av...  \n",
            "...                                                 ...  \n",
            "2166                     You can't use black and white.  \n",
            "2167                                          Yes, Sir.  \n",
            "2168    OK. Thank you very much. So basically, yes Sir.  \n",
            "2169                          You are saying something?  \n",
            "2170  No, Sir. No, Sir. Thank you. Have a good eveni...  \n",
            "\n",
            "[2171 rows x 4 columns]\n",
            "0       1\n",
            "1       2\n",
            "2       0\n",
            "3       1\n",
            "4       2\n",
            "       ..\n",
            "2166    2\n",
            "2167    0\n",
            "2168    1\n",
            "2169    2\n",
            "2170    1\n",
            "Name: Label_Num, Length: 2171, dtype: int64\n"
          ]
        }
      ]
    },
    {
      "cell_type": "markdown",
      "source": [
        "**Stremming Procedure**"
      ],
      "metadata": {
        "id": "fvbnk5Zl3tLy"
      }
    },
    {
      "cell_type": "code",
      "source": [
        "# def preprocess_text(text):\n",
        "#     # Lowercase\n",
        "#     text = text.lower()\n",
        "\n",
        "#     # Remove punctuation\n",
        "#     text = text.translate(str.maketrans('', '', string.punctuation))\n",
        "\n",
        "#     # Remove numbers\n",
        "#     text = re.sub(r'\\d+', '', text)\n",
        "\n",
        "#     # Remove special characters\n",
        "#     text = re.sub(r'\\W', ' ', text)\n",
        "\n",
        "#     # Remove stopwords\n",
        "#     stop_words = set(stopwords.words('english'))\n",
        "#     text = ' '.join([word for word in text.split() if word not in stop_words])\n",
        "\n",
        "#     # Tokenization\n",
        "#     tokens = word_tokenize(text)\n",
        "\n",
        "#     # Stemming or Lemmatization (choose one)\n",
        "#     stemmer = PorterStemmer()\n",
        "#     tokens = [stemmer.stem(token) for token in tokens]\n",
        "\n",
        "#     # Or use Lemmatization\n",
        "#     # lemmatizer = WordNetLemmatizer()\n",
        "#     # tokens = [lemmatizer.lemmatize(token) for token in tokens]\n",
        "\n",
        "#     # Join tokens back into a single string\n",
        "#     return ' '.join(tokens)\n",
        "\n",
        "# # Apply preprocessing to the 'Transcript' column\n",
        "\n",
        "# def preprocess_text(text):\n",
        "    # Lowercase\n",
        "    # text = text.lower()\n",
        "\n",
        "    # Remove punctuation\n",
        "    # text = text.translate(str.maketrans('', '', string.punctuation))\n",
        "\n",
        "    # Remove numbers\n",
        "    # text = re.sub(r'\\d+', '', text)\n",
        "\n",
        "    # Remove special characters (this may not be necessary as punctuation removal already does this)\n",
        "    # text = re.sub(r'\\W', ' ', text)  # Uncomment if you want to enforce removal of non-word characters\n",
        "\n",
        "    # Remove stopwords\n",
        "\n",
        "\n",
        "    # Join tokens back into a single string\n",
        "    # return text"
      ],
      "metadata": {
        "id": "NTTXzVJX24X7"
      },
      "execution_count": null,
      "outputs": []
    },
    {
      "cell_type": "code",
      "source": [
        "# viva_dataset['Transcript'] = viva_dataset['Transcript'].apply(preprocess_text)"
      ],
      "metadata": {
        "id": "NCdUqQxH7bXn"
      },
      "execution_count": null,
      "outputs": []
    },
    {
      "cell_type": "code",
      "source": [
        "viva_dataset['Transcript']"
      ],
      "metadata": {
        "colab": {
          "base_uri": "https://localhost:8080/",
          "height": 458
        },
        "id": "TgtbCAnI9ve3",
        "outputId": "1fa9daee-17d3-4cc4-a566-44a48545af08"
      },
      "execution_count": null,
      "outputs": [
        {
          "output_type": "execute_result",
          "data": {
            "text/plain": [
              "0       Yeah. So can you tell me now? We'll go one aft...\n",
              "1                     What is sampling? What is sampling?\n",
              "2       Sampling means it is the process of converting...\n",
              "3       OK. So suppose you sample a signal at. 10 kilo...\n",
              "4       What is the maximum frequency which will be av...\n",
              "                              ...                        \n",
              "2166                       You can't use black and white.\n",
              "2167                                            Yes, Sir.\n",
              "2168      OK. Thank you very much. So basically, yes Sir.\n",
              "2169                            You are saying something?\n",
              "2170    No, Sir. No, Sir. Thank you. Have a good eveni...\n",
              "Name: Transcript, Length: 2171, dtype: object"
            ],
            "text/html": [
              "<div>\n",
              "<style scoped>\n",
              "    .dataframe tbody tr th:only-of-type {\n",
              "        vertical-align: middle;\n",
              "    }\n",
              "\n",
              "    .dataframe tbody tr th {\n",
              "        vertical-align: top;\n",
              "    }\n",
              "\n",
              "    .dataframe thead th {\n",
              "        text-align: right;\n",
              "    }\n",
              "</style>\n",
              "<table border=\"1\" class=\"dataframe\">\n",
              "  <thead>\n",
              "    <tr style=\"text-align: right;\">\n",
              "      <th></th>\n",
              "      <th>Transcript</th>\n",
              "    </tr>\n",
              "  </thead>\n",
              "  <tbody>\n",
              "    <tr>\n",
              "      <th>0</th>\n",
              "      <td>Yeah. So can you tell me now? We'll go one aft...</td>\n",
              "    </tr>\n",
              "    <tr>\n",
              "      <th>1</th>\n",
              "      <td>What is sampling? What is sampling?</td>\n",
              "    </tr>\n",
              "    <tr>\n",
              "      <th>2</th>\n",
              "      <td>Sampling means it is the process of converting...</td>\n",
              "    </tr>\n",
              "    <tr>\n",
              "      <th>3</th>\n",
              "      <td>OK. So suppose you sample a signal at. 10 kilo...</td>\n",
              "    </tr>\n",
              "    <tr>\n",
              "      <th>4</th>\n",
              "      <td>What is the maximum frequency which will be av...</td>\n",
              "    </tr>\n",
              "    <tr>\n",
              "      <th>...</th>\n",
              "      <td>...</td>\n",
              "    </tr>\n",
              "    <tr>\n",
              "      <th>2166</th>\n",
              "      <td>You can't use black and white.</td>\n",
              "    </tr>\n",
              "    <tr>\n",
              "      <th>2167</th>\n",
              "      <td>Yes, Sir.</td>\n",
              "    </tr>\n",
              "    <tr>\n",
              "      <th>2168</th>\n",
              "      <td>OK. Thank you very much. So basically, yes Sir.</td>\n",
              "    </tr>\n",
              "    <tr>\n",
              "      <th>2169</th>\n",
              "      <td>You are saying something?</td>\n",
              "    </tr>\n",
              "    <tr>\n",
              "      <th>2170</th>\n",
              "      <td>No, Sir. No, Sir. Thank you. Have a good eveni...</td>\n",
              "    </tr>\n",
              "  </tbody>\n",
              "</table>\n",
              "<p>2171 rows × 1 columns</p>\n",
              "</div><br><label><b>dtype:</b> object</label>"
            ]
          },
          "metadata": {},
          "execution_count": 13
        }
      ]
    },
    {
      "cell_type": "code",
      "source": [
        "#seperating the data and label\n",
        "X = viva_dataset['Transcript'].values\n",
        "Y = viva_dataset['Label_Num'].values"
      ],
      "metadata": {
        "id": "b2AO6rXntl2p"
      },
      "execution_count": null,
      "outputs": []
    },
    {
      "cell_type": "code",
      "source": [
        "print(X)\n",
        "# print(Y)"
      ],
      "metadata": {
        "colab": {
          "base_uri": "https://localhost:8080/"
        },
        "id": "-5bgfImXw-be",
        "outputId": "61aca2b4-222d-4272-89b8-24c54bc891b6"
      },
      "execution_count": null,
      "outputs": [
        {
          "output_type": "stream",
          "name": "stdout",
          "text": [
            "[\"Yeah. So can you tell me now? We'll go one after another. First, we'll start with the udhab Bhaskar. Then we'll go to Balaji. OK. OK, OK. Yeah. So tell me.\"\n",
            " 'What is sampling? What is sampling?'\n",
            " 'Sampling means it is the process of converting a continual signal into discrete signal.'\n",
            " ... 'OK. Thank you very much. So basically, yes Sir.'\n",
            " 'You are saying something?'\n",
            " 'No, Sir. No, Sir. Thank you. Have a good evening. Bye.']\n"
          ]
        }
      ]
    },
    {
      "cell_type": "code",
      "source": [
        "# 1. Converting the textual data into numerical data\n",
        "vectorizer = TfidfVectorizer()\n",
        "vectorizer.fit(X)\n",
        "\n",
        "X = vectorizer.transform(X)"
      ],
      "metadata": {
        "id": "HuJzHYqxxMh2"
      },
      "execution_count": null,
      "outputs": []
    },
    {
      "cell_type": "code",
      "source": [
        "print(X)"
      ],
      "metadata": {
        "colab": {
          "base_uri": "https://localhost:8080/"
        },
        "id": "kv5tAt4wz2Pd",
        "outputId": "0659bc82-c23e-4dd2-ad51-55563211306b"
      },
      "execution_count": null,
      "outputs": [
        {
          "output_type": "stream",
          "name": "stdout",
          "text": [
            "  (0, 76)\t0.16697729254574878\n",
            "  (0, 139)\t0.16086252006238766\n",
            "  (0, 205)\t0.22646747584056884\n",
            "  (0, 244)\t0.23857389443856233\n",
            "  (0, 308)\t0.08997807020692612\n",
            "  (0, 828)\t0.16697729254574878\n",
            "  (0, 907)\t0.3195533024588154\n",
            "  (0, 1187)\t0.4204993823138716\n",
            "  (0, 1251)\t0.25254319469211434\n",
            "  (0, 1387)\t0.13417481465665815\n",
            "  (0, 1415)\t0.2533458553295778\n",
            "  (0, 1419)\t0.11682636510060934\n",
            "  (0, 1889)\t0.14887776855648635\n",
            "  (0, 1945)\t0.1876733518368459\n",
            "  (0, 2055)\t0.2740411914738432\n",
            "  (0, 2079)\t0.06462058836743381\n",
            "  (0, 2083)\t0.12298717938508329\n",
            "  (0, 2113)\t0.08402388721151874\n",
            "  (0, 2167)\t0.23857389443856233\n",
            "  (0, 2263)\t0.2648314468236312\n",
            "  (0, 2298)\t0.12524779068903916\n",
            "  (0, 2316)\t0.24005702619246888\n",
            "  (0, 2320)\t0.06556002187940836\n",
            "  (1, 1087)\t0.32018735060749043\n",
            "  (1, 1774)\t0.8618090503032196\n",
            "  :\t:\n",
            "  (2166, 2286)\t0.6012425772314044\n",
            "  (2166, 2320)\t0.18662235469912017\n",
            "  (2167, 1864)\t0.6485993546365192\n",
            "  (2167, 2318)\t0.7611300001741429\n",
            "  (2168, 215)\t0.4244541400949689\n",
            "  (2168, 1325)\t0.453291136692298\n",
            "  (2168, 1415)\t0.2698172491059905\n",
            "  (2168, 1864)\t0.2516979796329072\n",
            "  (2168, 1889)\t0.23783568461792617\n",
            "  (2168, 2076)\t0.4217282969450596\n",
            "  (2168, 2224)\t0.3356691616612467\n",
            "  (2168, 2318)\t0.2953670581266402\n",
            "  (2168, 2320)\t0.20946730782493272\n",
            "  (2169, 164)\t0.3656973774535103\n",
            "  (2169, 1779)\t0.6495349056433684\n",
            "  (2169, 1897)\t0.6102430412181299\n",
            "  (2169, 2320)\t0.26827833516579924\n",
            "  (2170, 296)\t0.4789680462562129\n",
            "  (2170, 754)\t0.3967391244825985\n",
            "  (2170, 915)\t0.2432985968531274\n",
            "  (2170, 955)\t0.22486995020680142\n",
            "  (2170, 1370)\t0.5277252949923164\n",
            "  (2170, 1864)\t0.346358662229154\n",
            "  (2170, 2076)\t0.2901677021148664\n",
            "  (2170, 2320)\t0.14412276297330429\n"
          ]
        }
      ]
    },
    {
      "cell_type": "code",
      "source": [
        "# Splitting data to training and test data\n",
        "\n",
        "X_train, X_test, Y_train, Y_test = train_test_split(X, Y, test_size = 0.2, stratify = Y, random_state = 2)"
      ],
      "metadata": {
        "id": "fAoFa4sF0ERq"
      },
      "execution_count": null,
      "outputs": []
    },
    {
      "cell_type": "code",
      "source": [
        "knn_model = KNeighborsClassifier(n_neighbors=5)  # You can adjust n_neighbors\n",
        "knn_model.fit(X_train, Y_train)\n",
        "\n",
        "# Predicting on the training set\n",
        "Y_train_pred = knn_model.predict(X_train)\n",
        "\n",
        "# Predicting on the test set\n",
        "Y_test_pred = knn_model.predict(X_test)\n",
        "\n",
        "# Calculating accuracy for the training set\n",
        "train_accuracy = accuracy_score(Y_train, Y_train_pred)\n",
        "print(f'Training Accuracy: {train_accuracy * 100:.2f}%')\n",
        "\n",
        "# Calculating accuracy for the test set\n",
        "test_accuracy = accuracy_score(Y_test, Y_test_pred)\n",
        "print(f'Test Accuracy: {test_accuracy * 100:.2f}%')\n",
        "\n",
        "# Confusion matrix for the test set\n",
        "test_conf_matrix = confusion_matrix(Y_test, Y_test_pred)\n",
        "sns.heatmap(test_conf_matrix, annot=True, fmt='d', cmap='Blues')\n",
        "plt.xlabel('Predicted')\n",
        "plt.ylabel('Actual')\n",
        "plt.title('Confusion Matrix for Test Set')\n",
        "plt.show()"
      ],
      "metadata": {
        "colab": {
          "base_uri": "https://localhost:8080/",
          "height": 507
        },
        "id": "NZeKvzsz0Hw9",
        "outputId": "480e3c2f-81c3-4fe7-e55b-d95b8ffcd847"
      },
      "execution_count": null,
      "outputs": [
        {
          "output_type": "stream",
          "name": "stdout",
          "text": [
            "Training Accuracy: 73.27%\n",
            "Test Accuracy: 52.64%\n"
          ]
        },
        {
          "output_type": "display_data",
          "data": {
            "text/plain": [
              "<Figure size 640x480 with 2 Axes>"
            ],
            "image/png": "[encoded data removed]"
          },
          "metadata": {}
        }
      ]
    },
    {
      "cell_type": "code",
      "source": [
        "param_grid = {\n",
        "    'n_neighbors': range(1, 31),      # Try different values of n_neighbors (1 to 30)\n",
        "    'weights': ['uniform', 'distance'],  # Uniform or distance-based weighting\n",
        "    'p': [1, 2]                        # p=1 for Manhattan distance, p=2 for Euclidean distance\n",
        "}\n",
        "\n",
        "# Create a KNN model\n",
        "knn_model = KNeighborsClassifier()\n",
        "\n",
        "# Set up GridSearchCV with 5-fold cross-validation\n",
        "grid_search = GridSearchCV(estimator=knn_model, param_grid=param_grid,\n",
        "                           cv=5, scoring='accuracy', n_jobs=-1)\n",
        "\n",
        "# Fit GridSearchCV on the training data\n",
        "grid_search.fit(X_train, Y_train)\n",
        "\n",
        "# Get the best parameters\n",
        "best_params = grid_search.best_params_\n",
        "print(f\"Best Hyperparameters: {best_params}\")\n",
        "\n",
        "# Get the best model from GridSearchCV\n",
        "best_knn_model = grid_search.best_estimator_\n",
        "\n",
        "# Predicting on the training set\n",
        "Y_train_pred = best_knn_model.predict(X_train)\n",
        "\n",
        "# Predicting on the test set\n",
        "Y_test_pred = best_knn_model.predict(X_test)\n",
        "\n",
        "# Calculating accuracy for the training set\n",
        "train_accuracy = accuracy_score(Y_train, Y_train_pred)\n",
        "print(f'Training Accuracy with Best Model: {train_accuracy * 100:.2f}%')\n",
        "\n",
        "# Calculating accuracy for the test set\n",
        "test_accuracy = accuracy_score(Y_test, Y_test_pred)\n",
        "print(f'Test Accuracy with Best Model: {test_accuracy * 100:.2f}%')\n",
        "\n",
        "# Confusion matrix for the test set\n",
        "test_conf_matrix = confusion_matrix(Y_test, Y_test_pred)\n",
        "sns.heatmap(test_conf_matrix, annot=True, fmt='d', cmap='Blues')\n",
        "plt.xlabel('Predicted')\n",
        "plt.ylabel('Actual')\n",
        "plt.title('Confusion Matrix for Test Set (Best Model)')\n",
        "plt.show()"
      ],
      "metadata": {
        "colab": {
          "base_uri": "https://localhost:8080/",
          "height": 524
        },
        "id": "3hJJ6FhzcsdC",
        "outputId": "cf3b1158-bdb7-43d9-8458-d4203615dc08"
      },
      "execution_count": null,
      "outputs": [
        {
          "output_type": "stream",
          "name": "stdout",
          "text": [
            "Best Hyperparameters: {'n_neighbors': 29, 'p': 2, 'weights': 'distance'}\n",
            "Training Accuracy with Best Model: 98.33%\n",
            "Test Accuracy with Best Model: 73.10%\n"
          ]
        },
        {
          "output_type": "display_data",
          "data": {
            "text/plain": [
              "<Figure size 640x480 with 2 Axes>"
            ],
            "image/png": "[encoded data removed]"
          },
          "metadata": {}
        }
      ]
    },
    {
      "cell_type": "code",
      "source": [
        "def knn_with_random_search(X_train, Y_train, X_test, Y_test):\n",
        "    # Define hyperparameter distribution for RandomizedSearchCV\n",
        "    param_dist = {\n",
        "        'n_neighbors': range(1, 31),            # n_neighbors between 1 and 30\n",
        "        'weights': ['uniform', 'distance'],     # Uniform or distance-based weighting\n",
        "        'p': [1, 2]                             # Manhattan distance (p=1) or Euclidean distance (p=2)\n",
        "    }\n",
        "\n",
        "    # Create the KNN model\n",
        "    knn_model = KNeighborsClassifier()\n",
        "\n",
        "    # Set up RandomizedSearchCV with 5-fold cross-validation\n",
        "    random_search = RandomizedSearchCV(estimator=knn_model, param_distributions=param_dist,\n",
        "                                       n_iter=10, cv=5, scoring='accuracy', n_jobs=-1, random_state=42)\n",
        "\n",
        "    # Fit RandomizedSearchCV on the training data\n",
        "    random_search.fit(X_train, Y_train)\n",
        "\n",
        "    # Get the best parameters\n",
        "    best_params = random_search.best_params_\n",
        "    print(f\"Best Hyperparameters: {best_params}\")\n",
        "\n",
        "    # Get the best model from RandomizedSearchCV\n",
        "    best_knn_model = random_search.best_estimator_\n",
        "\n",
        "    # Predicting on the training set\n",
        "    Y_train_pred = best_knn_model.predict(X_train)\n",
        "\n",
        "    # Predicting on the test set\n",
        "    Y_test_pred = best_knn_model.predict(X_test)\n",
        "\n",
        "    # Calculating accuracy for the training set\n",
        "    train_accuracy = accuracy_score(Y_train, Y_train_pred)\n",
        "    print(f'Training Accuracy with Best Model: {train_accuracy * 100:.2f}%')\n",
        "\n",
        "    # Calculating accuracy for the test set\n",
        "    test_accuracy = accuracy_score(Y_test, Y_test_pred)\n",
        "    print(f'Test Accuracy with Best Model: {test_accuracy * 100:.2f}%')\n",
        "\n",
        "    # Confusion matrix for the test set\n",
        "    test_conf_matrix = confusion_matrix(Y_test, Y_test_pred)\n",
        "    sns.heatmap(test_conf_matrix, annot=True, fmt='d', cmap='Blues')\n",
        "    plt.xlabel('Predicted')\n",
        "    plt.ylabel('Actual')\n",
        "    plt.title('Confusion Matrix for Test Set (Best Model)')\n",
        "    plt.show()\n",
        "\n",
        "# Example of usage:\n",
        "knn_with_random_search(X_train, Y_train, X_test, Y_test)"
      ],
      "metadata": {
        "colab": {
          "base_uri": "https://localhost:8080/",
          "height": 559
        },
        "id": "zyhgvMXFdGGf",
        "outputId": "71cf7eef-651f-4515-b067-35285dc450e2"
      },
      "execution_count": null,
      "outputs": [
        {
          "output_type": "stream",
          "name": "stderr",
          "text": [
            "/usr/local/lib/python3.10/dist-packages/numpy/ma/core.py:2820: RuntimeWarning: invalid value encountered in cast\n",
            "  _data = np.array(data, dtype=dtype, copy=copy,\n"
          ]
        },
        {
          "output_type": "stream",
          "name": "stdout",
          "text": [
            "Best Hyperparameters: {'weights': 'distance', 'p': 2, 'n_neighbors': 27}\n",
            "Training Accuracy with Best Model: 98.33%\n",
            "Test Accuracy with Best Model: 72.64%\n"
          ]
        },
        {
          "output_type": "display_data",
          "data": {
            "text/plain": [
              "<Figure size 640x480 with 2 Axes>"
            ],
            "image/png": "[encoded data removed]"
          },
          "metadata": {}
        }
      ]
    },
    {
      "cell_type": "code",
      "source": [
        "# def sigmoid(z):\n",
        "#     \"\"\"Compute the sigmoid function.\"\"\"\n",
        "#     # return 1 / (1 + np.exp(-z.toarray() if hasattr(z, 'toarray') else -z))\n",
        "#     if isinstance(z, np.ndarray):  # If it's a dense array, directly apply np.exp\n",
        "#         return 1 / (1 + np.exp(-z))\n",
        "#     else:  # Convert sparse matrix to dense before applying np.exp\n",
        "#         return 1 / (1 + np.exp(-z.toarray()))\n",
        "\n",
        "# def fit(X, y, learning_rate=0.01, num_iterations=1000):\n",
        "#     \"\"\"Fit the logistic regression model.\"\"\"\n",
        "#     num_samples, num_features = X.shape\n",
        "#     weights = np.zeros(num_features)\n",
        "#     bias = 0\n",
        "\n",
        "#     # Gradient descent\n",
        "#     for _ in range(num_iterations):\n",
        "#         linear_model = np.dot(X, weights) + bias\n",
        "#         y_predicted = sigmoid(linear_model)\n",
        "\n",
        "#         # Compute gradients\n",
        "#         dw = (1 / num_samples) * np.dot(X.T, (y_predicted - y))\n",
        "#         db = (1 / num_samples) * np.sum(y_predicted - y)\n",
        "\n",
        "#         # Update weights and bias\n",
        "#         weights -= learning_rate * dw\n",
        "#         bias -= learning_rate * db\n",
        "\n",
        "#     return weights, bias\n",
        "\n",
        "# def predict(X, weights, bias):\n",
        "#     \"\"\"Make predictions using the learned model.\"\"\"\n",
        "#     linear_model = np.dot(X, weights) + bias\n",
        "#     y_predicted = sigmoid(linear_model)\n",
        "#     predicted_classes = [1 if i > 0.5 else 0 for i in y_predicted]\n",
        "#     return np.array(predicted_classes)\n",
        "\n",
        "# def evaluate(X, y, weights, bias):\n",
        "#     \"\"\"Evaluate the model using accuracy.\"\"\"\n",
        "#     y_pred = predict(X, weights, bias)\n",
        "#     return accuracy_score(y, y_pred)\n",
        "\n",
        "def train_logistic_regression(X_train, Y_train):\n",
        "    # Train a logistic regression model.\n",
        "    model = LogisticRegression()\n",
        "    model.fit(X_train, Y_train)\n",
        "    return model\n",
        "\n",
        "def predict(model, X):\n",
        "    # Make predictions using the trained logistic regression model.\n",
        "    return model.predict(X)\n",
        "\n",
        "def evaluate_accuracy(Y_true, Y_pred):\n",
        "    # Evaluate and return the accuracy of the model.\n",
        "    accuracy = accuracy_score(Y_true, Y_pred)\n",
        "    return accuracy\n",
        "\n",
        "def plot_confusion_matrix(Y_true, Y_pred):\n",
        "    # Plot the confusion matrix as a heatmap.\n",
        "    conf_matrix = confusion_matrix(Y_true, Y_pred)\n",
        "    sns.heatmap(conf_matrix, annot=True, fmt='d', cmap='Blues')\n",
        "    plt.xlabel('Predicted')\n",
        "    plt.ylabel('Actual')\n",
        "    plt.title('Confusion Matrix for Test Set')\n",
        "    plt.show()\n",
        "\n",
        "# Train the model\n",
        "log_reg_model = train_logistic_regression(X_train, Y_train)\n",
        "\n",
        "# Make predictions\n",
        "Y_train_pred = predict(log_reg_model, X_train)\n",
        "Y_test_pred = predict(log_reg_model, X_test)\n",
        "\n",
        "# Evaluate and print training accuracy\n",
        "train_accuracy = evaluate_accuracy(Y_train, Y_train_pred)\n",
        "print(f'Training Accuracy: {train_accuracy * 100:.2f}%')\n",
        "\n",
        "# Evaluate and print test accuracy\n",
        "test_accuracy = evaluate_accuracy(Y_test, Y_test_pred)\n",
        "print(f'Test Accuracy: {test_accuracy * 100:.2f}%')\n",
        "\n",
        "# Plot confusion matrix for test set\n",
        "plot_confusion_matrix(Y_test, Y_test_pred)"
      ],
      "metadata": {
        "id": "RVLa4pe01gfx",
        "colab": {
          "base_uri": "https://localhost:8080/",
          "height": 507
        },
        "outputId": "14042064-08e9-4ecb-9e42-e3a2764d24da"
      },
      "execution_count": null,
      "outputs": [
        {
          "output_type": "stream",
          "name": "stdout",
          "text": [
            "Training Accuracy: 89.29%\n",
            "Test Accuracy: 74.71%\n"
          ]
        },
        {
          "output_type": "display_data",
          "data": {
            "text/plain": [
              "<Figure size 640x480 with 2 Axes>"
            ],
            "image/png": "[encoded data removed]"
          },
          "metadata": {}
        }
      ]
    },
    {
      "cell_type": "code",
      "source": [
        "def svm_classifier(X_train, Y_train, X_test, Y_test):\n",
        "\n",
        "    # Initialize the SVM model with a linear kernel\n",
        "    svm_model = SVC(kernel='linear')  # You can adjust the kernel type (e.g., 'rbf', 'poly')\n",
        "\n",
        "    # Train the model on the training data\n",
        "    svm_model.fit(X_train, Y_train)\n",
        "\n",
        "    # Predicting on the training set\n",
        "    Y_train_pred = svm_model.predict(X_train)\n",
        "\n",
        "    # Predicting on the test set\n",
        "    Y_test_pred = svm_model.predict(X_test)\n",
        "\n",
        "    # Calculating accuracy for the training set\n",
        "    train_accuracy = accuracy_score(Y_train, Y_train_pred)\n",
        "    print(f'Training Accuracy: {train_accuracy * 100:.2f}%')\n",
        "\n",
        "    # Calculating accuracy for the test set\n",
        "    test_accuracy = accuracy_score(Y_test, Y_test_pred)\n",
        "    print(f'Test Accuracy: {test_accuracy * 100:.2f}%')\n",
        "\n",
        "    # Confusion matrix for the test set\n",
        "    test_conf_matrix = confusion_matrix(Y_test, Y_test_pred)\n",
        "    sns.heatmap(test_conf_matrix, annot=True, fmt='d', cmap='Blues')\n",
        "    plt.xlabel('Predicted')\n",
        "    plt.ylabel('Actual')\n",
        "    plt.title('Confusion Matrix for Test Set')\n",
        "    plt.show()\n",
        "\n",
        "# Example usage (assuming you have X_train, Y_train, X_test, Y_test):\n",
        "svm_classifier(X_train, Y_train, X_test, Y_test)"
      ],
      "metadata": {
        "id": "Oobq13-p2i4A",
        "colab": {
          "base_uri": "https://localhost:8080/",
          "height": 507
        },
        "outputId": "844ff252-7a16-4d39-8252-4816b9991741"
      },
      "execution_count": null,
      "outputs": [
        {
          "output_type": "stream",
          "name": "stdout",
          "text": [
            "Training Accuracy: 90.55%\n",
            "Test Accuracy: 75.17%\n"
          ]
        },
        {
          "output_type": "display_data",
          "data": {
            "text/plain": [
              "<Figure size 640x480 with 2 Axes>"
            ],
            "image/png": "[encoded data removed]"
          },
          "metadata": {}
        }
      ]
    },
    {
      "cell_type": "code",
      "source": [
        "def decision_tree_classifier(X_train, Y_train, X_test, Y_test):\n",
        "    \"\"\"\n",
        "    Function to train and evaluate a Decision Tree model on the given data.\n",
        "\n",
        "    Parameters:\n",
        "    X_train: Training features\n",
        "    Y_train: Training labels\n",
        "    X_test: Test features\n",
        "    Y_test: Test labels\n",
        "    \"\"\"\n",
        "\n",
        "    # Initialize the Decision Tree model\n",
        "    dt_model = DecisionTreeClassifier()  # You can adjust parameters like max_depth, criterion, etc.\n",
        "\n",
        "    # Train the model on the training data\n",
        "    dt_model.fit(X_train, Y_train)\n",
        "\n",
        "    # Predicting on the training set\n",
        "    Y_train_pred = dt_model.predict(X_train)\n",
        "\n",
        "    # Predicting on the test set\n",
        "    Y_test_pred = dt_model.predict(X_test)\n",
        "\n",
        "    # Calculating accuracy for the training set\n",
        "    train_accuracy = accuracy_score(Y_train, Y_train_pred)\n",
        "    print(f'Training Accuracy: {train_accuracy * 100:.2f}%')\n",
        "\n",
        "    # Calculating accuracy for the test set\n",
        "    test_accuracy = accuracy_score(Y_test, Y_test_pred)\n",
        "    print(f'Test Accuracy: {test_accuracy * 100:.2f}%')\n",
        "\n",
        "    # Confusion matrix for the test set\n",
        "    test_conf_matrix = confusion_matrix(Y_test, Y_test_pred)\n",
        "    sns.heatmap(test_conf_matrix, annot=True, fmt='d', cmap='Blues')\n",
        "    plt.xlabel('Predicted')\n",
        "    plt.ylabel('Actual')\n",
        "    plt.title('Confusion Matrix for Test Set')\n",
        "    plt.show()\n",
        "\n",
        "# Example usage (assuming you have X_train, Y_train, X_test, Y_test):\n",
        "decision_tree_classifier(X_train, Y_train, X_test, Y_test)"
      ],
      "metadata": {
        "id": "65zifBqP1pkj",
        "colab": {
          "base_uri": "https://localhost:8080/",
          "height": 507
        },
        "outputId": "071e223d-0553-4c40-e81f-e0b38315fd8e"
      },
      "execution_count": null,
      "outputs": [
        {
          "output_type": "stream",
          "name": "stdout",
          "text": [
            "Training Accuracy: 98.33%\n",
            "Test Accuracy: 75.63%\n"
          ]
        },
        {
          "output_type": "display_data",
          "data": {
            "text/plain": [
              "<Figure size 640x480 with 2 Axes>"
            ],
            "image/png": "[encoded data removed]"
          },
          "metadata": {}
        }
      ]
    },
    {
      "cell_type": "code",
      "source": [
        "def random_forest_classifier(X_train, Y_train, X_test, Y_test):\n",
        "\n",
        "    # Initialize the Random Forest model\n",
        "    rf_model = RandomForestClassifier()  # You can adjust parameters like n_estimators, max_depth, etc.\n",
        "\n",
        "    # Train the model on the training data\n",
        "    rf_model.fit(X_train, Y_train)\n",
        "\n",
        "    # Predicting on the training set\n",
        "    Y_train_pred = rf_model.predict(X_train)\n",
        "\n",
        "    # Predicting on the test set\n",
        "    Y_test_pred = rf_model.predict(X_test)\n",
        "\n",
        "    # Calculating accuracy for the training set\n",
        "    train_accuracy = accuracy_score(Y_train, Y_train_pred)\n",
        "    print(f'Training Accuracy: {train_accuracy * 100:.2f}%')\n",
        "\n",
        "    # Calculating accuracy for the test set\n",
        "    test_accuracy = accuracy_score(Y_test, Y_test_pred)\n",
        "    print(f'Test Accuracy: {test_accuracy * 100:.2f}%')\n",
        "\n",
        "    # Confusion matrix for the test set\n",
        "    test_conf_matrix = confusion_matrix(Y_test, Y_test_pred)\n",
        "    sns.heatmap(test_conf_matrix, annot=True, fmt='d', cmap='Blues')\n",
        "    plt.xlabel('Predicted')\n",
        "    plt.ylabel('Actual')\n",
        "    plt.title('Confusion Matrix for Test Set')\n",
        "    plt.show()\n",
        "\n",
        "# Example usage (assuming you have X_train, Y_train, X_test, Y_test):\n",
        "random_forest_classifier(X_train, Y_train, X_test, Y_test)"
      ],
      "metadata": {
        "colab": {
          "base_uri": "https://localhost:8080/",
          "height": 507
        },
        "id": "C75piGxTgNIo",
        "outputId": "0c20d999-9cd5-4295-dc89-5832a8edd541"
      },
      "execution_count": null,
      "outputs": [
        {
          "output_type": "stream",
          "name": "stdout",
          "text": [
            "Training Accuracy: 98.33%\n",
            "Test Accuracy: 77.47%\n"
          ]
        },
        {
          "output_type": "display_data",
          "data": {
            "text/plain": [
              "<Figure size 640x480 with 2 Axes>"
            ],
            "image/png": "[encoded data removed]"
          },
          "metadata": {}
        }
      ]
    },
    {
      "cell_type": "code",
      "source": [
        "def catboost_classifier(X_train, Y_train, X_test, Y_test):\n",
        "\n",
        "\n",
        "    # Initialize the CatBoost model\n",
        "    catboost_model = CatBoostClassifier(silent=True)\n",
        "\n",
        "    # Train the model on the training data\n",
        "    catboost_model.fit(X_train, Y_train)\n",
        "\n",
        "    # Predicting on the training set\n",
        "    Y_train_pred = catboost_model.predict(X_train)\n",
        "\n",
        "    # Predicting on the test set\n",
        "    Y_test_pred = catboost_model.predict(X_test)\n",
        "\n",
        "    # Calculating accuracy for the training set\n",
        "    train_accuracy = accuracy_score(Y_train, Y_train_pred)\n",
        "    print(f'Training Accuracy: {train_accuracy * 100:.2f}%')\n",
        "\n",
        "    # Calculating accuracy for the test set\n",
        "    test_accuracy = accuracy_score(Y_test, Y_test_pred)\n",
        "    print(f'Test Accuracy: {test_accuracy * 100:.2f}%')\n",
        "\n",
        "    # Confusion matrix for the test set\n",
        "    test_conf_matrix = confusion_matrix(Y_test, Y_test_pred)\n",
        "    sns.heatmap(test_conf_matrix, annot=True, fmt='d', cmap='Blues')\n",
        "    plt.xlabel('Predicted')\n",
        "    plt.ylabel('Actual')\n",
        "    plt.title('Confusion Matrix for Test Set')\n",
        "    plt.show()\n",
        "\n",
        "# Example usage (assuming you have X_train, Y_train, X_test, Y_test):\n",
        "catboost_classifier(X_train, Y_train, X_test, Y_test)"
      ],
      "metadata": {
        "colab": {
          "base_uri": "https://localhost:8080/",
          "height": 507
        },
        "id": "ufEvQiE3ge22",
        "outputId": "a9c9c95d-5d3d-47da-df91-c5abb73ffc1c"
      },
      "execution_count": null,
      "outputs": [
        {
          "output_type": "stream",
          "name": "stdout",
          "text": [
            "Training Accuracy: 92.28%\n",
            "Test Accuracy: 77.93%\n"
          ]
        },
        {
          "output_type": "display_data",
          "data": {
            "text/plain": [
              "<Figure size 640x480 with 2 Axes>"
            ],
            "image/png": "[encoded data removed]"
          },
          "metadata": {}
        }
      ]
    },
    {
      "cell_type": "code",
      "source": [
        "def adaboost_classifier(X_train, Y_train, X_test, Y_test):\n",
        "\n",
        "\n",
        "    # Initialize the base model (Decision Tree)\n",
        "    base_model = DecisionTreeClassifier(max_depth=1)  # Using a Decision Stump as the base learner\n",
        "\n",
        "    # Initialize the AdaBoost model\n",
        "    ada_model = AdaBoostClassifier(estimator=base_model, n_estimators=50)  # Use 'estimator' instead of 'base_estimator'\n",
        "\n",
        "    # Train the model on the training data\n",
        "    ada_model.fit(X_train, Y_train)\n",
        "\n",
        "    # Predicting on the training set\n",
        "    Y_train_pred = ada_model.predict(X_train)\n",
        "\n",
        "    # Predicting on the test set\n",
        "    Y_test_pred = ada_model.predict(X_test)\n",
        "\n",
        "    # Calculating accuracy for the training set\n",
        "    train_accuracy = accuracy_score(Y_train, Y_train_pred)\n",
        "    print(f'Training Accuracy: {train_accuracy * 100:.2f}%')\n",
        "\n",
        "    # Calculating accuracy for the test set\n",
        "    test_accuracy = accuracy_score(Y_test, Y_test_pred)\n",
        "    print(f'Test Accuracy: {test_accuracy * 100:.2f}%')\n",
        "\n",
        "    # Confusion matrix for the test set\n",
        "    test_conf_matrix = confusion_matrix(Y_test, Y_test_pred)\n",
        "    sns.heatmap(test_conf_matrix, annot=True, fmt='d', cmap='Blues')\n",
        "    plt.xlabel('Predicted')\n",
        "    plt.ylabel('Actual')\n",
        "    plt.title('Confusion Matrix for Test Set')\n",
        "    plt.show()\n",
        "\n",
        "# Example usage (assuming you have X_train, Y_train, X_test, Y_test):\n",
        "adaboost_classifier(X_train, Y_train, X_test, Y_test)"
      ],
      "metadata": {
        "colab": {
          "base_uri": "https://localhost:8080/",
          "height": 561
        },
        "id": "Td6XXoUuhjOU",
        "outputId": "a0cb263f-dd97-41f8-d01b-d329bd4b72ad"
      },
      "execution_count": null,
      "outputs": [
        {
          "output_type": "stream",
          "name": "stderr",
          "text": [
            "/usr/local/lib/python3.10/dist-packages/sklearn/ensemble/_weight_boosting.py:527: FutureWarning: The SAMME.R algorithm (the default) is deprecated and will be removed in 1.6. Use the SAMME algorithm to circumvent this warning.\n",
            "  warnings.warn(\n"
          ]
        },
        {
          "output_type": "stream",
          "name": "stdout",
          "text": [
            "Training Accuracy: 76.21%\n",
            "Test Accuracy: 69.89%\n"
          ]
        },
        {
          "output_type": "display_data",
          "data": {
            "text/plain": [
              "<Figure size 640x480 with 2 Axes>"
            ],
            "image/png": "[encoded data removed]"
          },
          "metadata": {}
        }
      ]
    },
    {
      "cell_type": "code",
      "source": [
        "def xgboost_classifier(X_train, Y_train, X_test, Y_test):\n",
        "    \"\"\"\n",
        "    Function to train and evaluate an XGBoost model on the given data.\n",
        "\n",
        "    Parameters:\n",
        "    X_train: Training features\n",
        "    Y_train: Training labels\n",
        "    X_test: Test features\n",
        "    Y_test: Test labels\n",
        "    \"\"\"\n",
        "\n",
        "    # Initialize the XGBoost model\n",
        "    xgb_model = xgb.XGBClassifier(eval_metric='mlogloss')  # You can adjust parameters like n_estimators, max_depth, etc.\n",
        "\n",
        "    # Train the model on the training data\n",
        "    xgb_model.fit(X_train, Y_train)\n",
        "\n",
        "    # Predicting on the training set\n",
        "    Y_train_pred = xgb_model.predict(X_train)\n",
        "\n",
        "    # Predicting on the test set\n",
        "    Y_test_pred = xgb_model.predict(X_test)\n",
        "\n",
        "    # Calculating accuracy for the training set\n",
        "    train_accuracy = accuracy_score(Y_train, Y_train_pred)\n",
        "    print(f'Training Accuracy: {train_accuracy * 100:.2f}%')\n",
        "\n",
        "    # Calculating accuracy for the test set\n",
        "    test_accuracy = accuracy_score(Y_test, Y_test_pred)\n",
        "    print(f'Test Accuracy: {test_accuracy * 100:.2f}%')\n",
        "\n",
        "    # Confusion matrix for the test set\n",
        "    test_conf_matrix = confusion_matrix(Y_test, Y_test_pred)\n",
        "    sns.heatmap(test_conf_matrix, annot=True, fmt='d', cmap='Blues')\n",
        "    plt.xlabel('Predicted')\n",
        "    plt.ylabel('Actual')\n",
        "    plt.title('Confusion Matrix for Test Set')\n",
        "    plt.show()\n",
        "\n",
        "# Example usage (assuming you have X_train, Y_train, X_test, Y_test):\n",
        "xgboost_classifier(X_train, Y_train, X_test, Y_test)"
      ],
      "metadata": {
        "colab": {
          "base_uri": "https://localhost:8080/",
          "height": 507
        },
        "id": "3w5YkPZviEuT",
        "outputId": "8fb760e2-6779-4f7d-e202-d42e4aaeba09"
      },
      "execution_count": null,
      "outputs": [
        {
          "output_type": "stream",
          "name": "stdout",
          "text": [
            "Training Accuracy: 96.03%\n",
            "Test Accuracy: 77.93%\n"
          ]
        },
        {
          "output_type": "display_data",
          "data": {
            "text/plain": [
              "<Figure size 640x480 with 2 Axes>"
            ],
            "image/png": "[encoded data removed]"
          },
          "metadata": {}
        }
      ]
    },
    {
      "cell_type": "code",
      "source": [
        "def naive_bayes_classifier(X_train, Y_train, X_test, Y_test):\n",
        "\n",
        "\n",
        "    # Convert sparse matrices to dense if needed\n",
        "    if hasattr(X_train, 'toarray'):\n",
        "        X_train = X_train.toarray()\n",
        "    if hasattr(X_test, 'toarray'):\n",
        "        X_test = X_test.toarray()\n",
        "\n",
        "    # Initialize the Naive Bayes model\n",
        "    nb_model = GaussianNB()  # You can use different variants like MultinomialNB or BernoulliNB as needed\n",
        "\n",
        "    # Train the model on the training data\n",
        "    nb_model.fit(X_train, Y_train)\n",
        "\n",
        "    # Predicting on the training set\n",
        "    Y_train_pred = nb_model.predict(X_train)\n",
        "\n",
        "    # Predicting on the test set\n",
        "    Y_test_pred = nb_model.predict(X_test)\n",
        "\n",
        "    # Calculating accuracy for the training set\n",
        "    train_accuracy = accuracy_score(Y_train, Y_train_pred)\n",
        "    print(f'Training Accuracy: {train_accuracy * 100:.2f}%')\n",
        "\n",
        "    # Calculating accuracy for the test set\n",
        "    test_accuracy = accuracy_score(Y_test, Y_test_pred)\n",
        "    print(f'Test Accuracy: {test_accuracy * 100:.2f}%')\n",
        "\n",
        "    # Confusion matrix for the test set\n",
        "    test_conf_matrix = confusion_matrix(Y_test, Y_test_pred)\n",
        "    sns.heatmap(test_conf_matrix, annot=True, fmt='d', cmap='Blues')\n",
        "    plt.xlabel('Predicted')\n",
        "    plt.ylabel('Actual')\n",
        "    plt.title('Confusion Matrix for Test Set')\n",
        "    plt.show()\n",
        "\n",
        "# Example usage (assuming you have X_train, Y_train, X_test, Y_test):\n",
        "naive_bayes_classifier(X_train, Y_train, X_test, Y_test)"
      ],
      "metadata": {
        "colab": {
          "base_uri": "https://localhost:8080/",
          "height": 507
        },
        "id": "6SNRoUV5jIcl",
        "outputId": "79d7d496-b0d1-402d-9306-ea713bd742bc"
      },
      "execution_count": null,
      "outputs": [
        {
          "output_type": "stream",
          "name": "stdout",
          "text": [
            "Training Accuracy: 69.82%\n",
            "Test Accuracy: 44.37%\n"
          ]
        },
        {
          "output_type": "display_data",
          "data": {
            "text/plain": [
              "<Figure size 640x480 with 2 Axes>"
            ],
            "image/png": "[encoded data removed]"
          },
          "metadata": {}
        }
      ]
    }
  ]
}
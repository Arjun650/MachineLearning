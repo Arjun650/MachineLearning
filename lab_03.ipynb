{
  "nbformat": 4,
  "nbformat_minor": 0,
  "metadata": {
    "colab": {
      "provenance": [],
      "authorship_tag": "ABX9TyMS/UwzDhCmxgp4c0KNtrPF",
      "include_colab_link": true
    },
    "kernelspec": {
      "name": "python3",
      "display_name": "Python 3"
    },
    "language_info": {
      "name": "python"
    }
  },
  "cells": [
    {
      "cell_type": "markdown",
      "metadata": {
        "id": "view-in-github",
        "colab_type": "text"
      },
      "source": [
        "<a href=\"https://colab.research.google.com/github/Arjun650/MachineLearning/blob/main/lab_03.ipynb\" target=\"_parent\"><img src=\"https://colab.research.google.com/assets/colab-badge.svg\" alt=\"Open In Colab\"/></a>"
      ]
    },
    {
      "cell_type": "code",
      "execution_count": 29,
      "metadata": {
        "id": "qFa72lS1fNzi"
      },
      "outputs": [],
      "source": [
        "#test for lab_03 assignment\n",
        "import pandas as pd\n",
        "import numpy as np\n",
        "import matplotlib.pyplot as plt\n",
        "from sklearn.feature_extraction.text import TfidfVectorizer\n",
        "from sklearn.neighbors import KNeighborsClassifier\n",
        "from sklearn.metrics import accuracy_score, classification_report, confusion_matrix"
      ]
    },
    {
      "cell_type": "code",
      "source": [
        "import pandas as pd\n",
        "\n",
        "data = pd.read_csv('./team01.csv')\n",
        "print(data.head(10))\n"
      ],
      "metadata": {
        "colab": {
          "base_uri": "https://localhost:8080/"
        },
        "id": "kDpxj3-DfteP",
        "outputId": "68780b24-3855-4b17-a8c6-7bfac95b0761"
      },
      "execution_count": 2,
      "outputs": [
        {
          "output_type": "stream",
          "name": "stdout",
          "text": [
            "  Timestamp     Speaker                               Transcript      Label\n",
            "0  00:00:02   Speaker 1                                Yes, Sir.  Statement\n",
            "1  00:00:05   Speaker 1                                     And.  Statement\n",
            "2  00:00:07   Speaker 1             Then we go to with that, OK.  Statement\n",
            "3  00:00:10   Speaker 1                                 OK, Sir.  Statement\n",
            "4  00:00:11   Speaker 1                                    Yeah.  Statement\n",
            "5  00:00:13   Speaker 1           Itself is all new to yourself.  Statement\n",
            "6  00:00:19   Speaker 2                                      OK   Statement\n",
            "7  01:00:19   Speaker 1                                       OK  Statement\n",
            "8  00:00:23   Speaker 2  Can you tell me name of one classifier?   Question\n",
            "9  00:00:27   Speaker 3           Which is non linear in nature.   Question\n"
          ]
        }
      ]
    },
    {
      "cell_type": "code",
      "source": [
        "data.columns"
      ],
      "metadata": {
        "colab": {
          "base_uri": "https://localhost:8080/"
        },
        "id": "yT1Sv_J4imDk",
        "outputId": "04a6a146-cb56-4041-e591-2bde86f1565d"
      },
      "execution_count": 3,
      "outputs": [
        {
          "output_type": "execute_result",
          "data": {
            "text/plain": [
              "Index(['Timestamp', 'Speaker', 'Transcript', 'Label'], dtype='object')"
            ]
          },
          "metadata": {},
          "execution_count": 3
        }
      ]
    },
    {
      "cell_type": "code",
      "source": [
        "data.isnull().sum()"
      ],
      "metadata": {
        "colab": {
          "base_uri": "https://localhost:8080/",
          "height": 209
        },
        "id": "R29FFjq_iqvi",
        "outputId": "c046e9d0-70fa-4d51-8279-0a77560a850b"
      },
      "execution_count": 4,
      "outputs": [
        {
          "output_type": "execute_result",
          "data": {
            "text/plain": [
              "Timestamp     0\n",
              "Speaker       0\n",
              "Transcript    0\n",
              "Label         0\n",
              "dtype: int64"
            ],
            "text/html": [
              "<div>\n",
              "<style scoped>\n",
              "    .dataframe tbody tr th:only-of-type {\n",
              "        vertical-align: middle;\n",
              "    }\n",
              "\n",
              "    .dataframe tbody tr th {\n",
              "        vertical-align: top;\n",
              "    }\n",
              "\n",
              "    .dataframe thead th {\n",
              "        text-align: right;\n",
              "    }\n",
              "</style>\n",
              "<table border=\"1\" class=\"dataframe\">\n",
              "  <thead>\n",
              "    <tr style=\"text-align: right;\">\n",
              "      <th></th>\n",
              "      <th>0</th>\n",
              "    </tr>\n",
              "  </thead>\n",
              "  <tbody>\n",
              "    <tr>\n",
              "      <th>Timestamp</th>\n",
              "      <td>0</td>\n",
              "    </tr>\n",
              "    <tr>\n",
              "      <th>Speaker</th>\n",
              "      <td>0</td>\n",
              "    </tr>\n",
              "    <tr>\n",
              "      <th>Transcript</th>\n",
              "      <td>0</td>\n",
              "    </tr>\n",
              "    <tr>\n",
              "      <th>Label</th>\n",
              "      <td>0</td>\n",
              "    </tr>\n",
              "  </tbody>\n",
              "</table>\n",
              "</div><br><label><b>dtype:</b> int64</label>"
            ]
          },
          "metadata": {},
          "execution_count": 4
        }
      ]
    },
    {
      "cell_type": "code",
      "source": [
        "statements = data[data['Label'] == 'Statement']\n",
        "questions = data[data['Label'] == 'Question']\n",
        "answers = data[data['Label'] == 'Answer']\n",
        "\n",
        "sentiment_counts = data['Label'].value_counts(normalize=True)\n",
        "\n",
        "sentiment_counts\n",
        "\n"
      ],
      "metadata": {
        "colab": {
          "base_uri": "https://localhost:8080/",
          "height": 209
        },
        "id": "-Tc8AGmOjATa",
        "outputId": "3e1305c1-db4f-4d2b-940f-507d5a070095"
      },
      "execution_count": 11,
      "outputs": [
        {
          "output_type": "execute_result",
          "data": {
            "text/plain": [
              "Label\n",
              "Statement    0.446154\n",
              "Question     0.292308\n",
              "Answer       0.261538\n",
              "Name: proportion, dtype: float64"
            ],
            "text/html": [
              "<div>\n",
              "<style scoped>\n",
              "    .dataframe tbody tr th:only-of-type {\n",
              "        vertical-align: middle;\n",
              "    }\n",
              "\n",
              "    .dataframe tbody tr th {\n",
              "        vertical-align: top;\n",
              "    }\n",
              "\n",
              "    .dataframe thead th {\n",
              "        text-align: right;\n",
              "    }\n",
              "</style>\n",
              "<table border=\"1\" class=\"dataframe\">\n",
              "  <thead>\n",
              "    <tr style=\"text-align: right;\">\n",
              "      <th></th>\n",
              "      <th>proportion</th>\n",
              "    </tr>\n",
              "    <tr>\n",
              "      <th>Label</th>\n",
              "      <th></th>\n",
              "    </tr>\n",
              "  </thead>\n",
              "  <tbody>\n",
              "    <tr>\n",
              "      <th>Statement</th>\n",
              "      <td>0.446154</td>\n",
              "    </tr>\n",
              "    <tr>\n",
              "      <th>Question</th>\n",
              "      <td>0.292308</td>\n",
              "    </tr>\n",
              "    <tr>\n",
              "      <th>Answer</th>\n",
              "      <td>0.261538</td>\n",
              "    </tr>\n",
              "  </tbody>\n",
              "</table>\n",
              "</div><br><label><b>dtype:</b> float64</label>"
            ]
          },
          "metadata": {},
          "execution_count": 11
        }
      ]
    },
    {
      "cell_type": "code",
      "source": [
        "vectorizer = TfidfVectorizer()\n",
        "X_all = vectorizer.fit_transform(data['Transcript']).toarray()\n",
        "X_statements = X_all[data['Label'] == 'Statement']\n",
        "X_questions = X_all[data['Label'] == 'Question']\n",
        "X_answers = X_all[data['Label'] == 'Answer']\n",
        "\n",
        "centroid_statements = np.mean(X_statements, axis=0) if len(X_statements) > 0 else np.array([])\n",
        "centroid_questions = np.mean(X_questions, axis=0) if len(X_questions) > 0 else np.array([])\n",
        "centroid_answers = np.mean(X_answers, axis=0) if len(X_answers) > 0 else np.array([])\n",
        "\n"
      ],
      "metadata": {
        "id": "8CJ45LJTFQpC"
      },
      "execution_count": 17,
      "outputs": []
    },
    {
      "cell_type": "code",
      "source": [
        "spread_statements = np.std(X_statements, axis=0) if len(X_statements) > 0 else np.array([])\n",
        "spread_questions = np.std(X_questions, axis=0) if len(X_questions) > 0 else np.array([])\n",
        "spread_answers = np.std(X_answers, axis=0) if len(X_answers) > 0 else np.array([])"
      ],
      "metadata": {
        "id": "4YqwcRe0F0Qy"
      },
      "execution_count": 18,
      "outputs": []
    },
    {
      "cell_type": "code",
      "source": [
        "distance_statements_questions = np.linalg.norm(centroid_statements - centroid_questions) if centroid_statements.size and centroid_questions.size else None\n",
        "distance_statements_answers = np.linalg.norm(centroid_statements - centroid_answers) if centroid_statements.size and centroid_answers.size else None\n",
        "distance_questions_answers = np.linalg.norm(centroid_questions - centroid_answers) if centroid_questions.size and centroid_answers.size else None"
      ],
      "metadata": {
        "id": "S7i8Ln4fF3gf"
      },
      "execution_count": 19,
      "outputs": []
    },
    {
      "cell_type": "code",
      "source": [
        "print(\"Centroid of Statements:\", centroid_statements)\n",
        "print(\"Centroid of Questions:\", centroid_questions)\n",
        "print(\"Centroid of Answers:\", centroid_answers)\n",
        "\n",
        "print(\"Spread of Statements:\", spread_statements)\n",
        "print(\"Spread of Questions:\", spread_questions)\n",
        "print(\"Spread of Answers:\", spread_answers)\n",
        "\n",
        "print(\"Interclass Distance between Statements and Questions:\", distance_statements_questions)\n",
        "print(\"Interclass Distance between Statements and Answers:\", distance_statements_answers)\n",
        "print(\"Interclass Distance between Questions and Answers:\", distance_questions_answers)"
      ],
      "metadata": {
        "colab": {
          "base_uri": "https://localhost:8080/"
        },
        "id": "117c_aCkF7ms",
        "outputId": "8fa375ac-7ec8-469d-f907-6cd9ad9c7e52"
      },
      "execution_count": 20,
      "outputs": [
        {
          "output_type": "stream",
          "name": "stdout",
          "text": [
            "Centroid of Statements: [0.         0.         0.         0.01546032 0.         0.03448276\n",
            " 0.         0.         0.         0.         0.         0.\n",
            " 0.         0.         0.         0.         0.         0.\n",
            " 0.         0.         0.02208843 0.         0.         0.\n",
            " 0.02779645 0.         0.02269219 0.         0.         0.\n",
            " 0.03042659 0.         0.04791232 0.         0.         0.\n",
            " 0.0237011  0.         0.00902451 0.         0.01546032 0.\n",
            " 0.01389823 0.         0.         0.         0.0148569  0.\n",
            " 0.         0.02438299 0.         0.         0.01888303 0.\n",
            " 0.         0.         0.         0.         0.         0.\n",
            " 0.02208843 0.01546032 0.04476978 0.         0.         0.\n",
            " 0.         0.         0.03448276 0.32505641 0.         0.\n",
            " 0.         0.         0.         0.         0.         0.\n",
            " 0.02550583 0.         0.         0.         0.         0.\n",
            " 0.         0.02438299 0.         0.         0.         0.15502586\n",
            " 0.03448276 0.         0.         0.         0.         0.\n",
            " 0.         0.03448276 0.01175268 0.01860922 0.01476057 0.01777516\n",
            " 0.         0.02406253 0.         0.         0.         0.\n",
            " 0.         0.         0.         0.01476057 0.         0.\n",
            " 0.         0.         0.         0.01476057 0.03448276 0.12022106\n",
            " 0.         0.01546032]\n",
            "Centroid of Questions: [0.01803863 0.         0.         0.         0.         0.04877012\n",
            " 0.06291346 0.         0.         0.01821167 0.01725938 0.04889898\n",
            " 0.         0.06140268 0.         0.03221067 0.0237106  0.\n",
            " 0.         0.         0.02359922 0.02519498 0.04515573 0.02077689\n",
            " 0.         0.         0.04491997 0.01932131 0.08934322 0.02519498\n",
            " 0.09723326 0.         0.         0.         0.03027008 0.04050211\n",
            " 0.         0.02015199 0.08609065 0.05526296 0.         0.\n",
            " 0.         0.02359922 0.03559604 0.         0.05618439 0.\n",
            " 0.01932131 0.         0.05472055 0.02077689 0.0160457  0.\n",
            " 0.03648241 0.         0.         0.01523152 0.03680649 0.02666755\n",
            " 0.02359922 0.         0.         0.04688502 0.         0.03939323\n",
            " 0.01803863 0.03731513 0.         0.         0.         0.01523152\n",
            " 0.04228337 0.05392297 0.02593815 0.06851544 0.02153068 0.\n",
            " 0.         0.         0.01523152 0.         0.01896997 0.01523152\n",
            " 0.02153068 0.         0.         0.         0.02835639 0.0163752\n",
            " 0.06549933 0.02153068 0.         0.02835639 0.01932131 0.01915577\n",
            " 0.04244753 0.         0.03613403 0.04788876 0.         0.01915577\n",
            " 0.         0.01436275 0.         0.         0.         0.\n",
            " 0.02405833 0.01958918 0.         0.         0.06053319 0.05772932\n",
            " 0.05895208 0.04504124 0.         0.         0.         0.\n",
            " 0.1506091  0.        ]\n",
            "Centroid of Answers: [0.         0.01629867 0.06148064 0.         0.02137052 0.02125656\n",
            " 0.         0.02663743 0.04897047 0.06430615 0.01129686 0.\n",
            " 0.01428525 0.01137422 0.01428525 0.05784995 0.04841447 0.01428525\n",
            " 0.03566314 0.04331224 0.         0.         0.         0.\n",
            " 0.         0.01443243 0.04107524 0.         0.         0.\n",
            " 0.0642974  0.02779116 0.         0.02612582 0.         0.\n",
            " 0.         0.11508055 0.05959867 0.14634487 0.         0.04543766\n",
            " 0.         0.01940103 0.04395774 0.02779116 0.03636303 0.03253205\n",
            " 0.         0.         0.         0.         0.02100492 0.04407216\n",
            " 0.         0.02132388 0.04232541 0.         0.         0.\n",
            " 0.         0.         0.         0.0212093  0.04601815 0.\n",
            " 0.         0.02995589 0.         0.         0.02779116 0.\n",
            " 0.         0.02350709 0.         0.         0.         0.01629867\n",
            " 0.         0.02886487 0.         0.01241649 0.         0.\n",
            " 0.         0.         0.01428525 0.02663743 0.         0.08653061\n",
            " 0.08318506 0.         0.03331969 0.         0.         0.06097341\n",
            " 0.         0.         0.00988628 0.15628048 0.         0.04674244\n",
            " 0.01241649 0.01137422 0.05870931 0.03331969 0.02612582 0.02132388\n",
            " 0.         0.0129971  0.04095479 0.         0.         0.01208314\n",
            " 0.         0.         0.08293826 0.         0.         0.\n",
            " 0.         0.        ]\n",
            "Spread of Statements: [0.         0.         0.         0.08180835 0.         0.18246561\n",
            " 0.         0.         0.         0.         0.         0.\n",
            " 0.         0.         0.         0.         0.         0.\n",
            " 0.         0.         0.116881   0.         0.         0.\n",
            " 0.14708501 0.         0.1200758  0.         0.         0.\n",
            " 0.11394416 0.         0.1934358  0.         0.         0.\n",
            " 0.12541445 0.         0.04775324 0.         0.08180835 0.\n",
            " 0.07354251 0.         0.         0.         0.07861532 0.\n",
            " 0.         0.12902267 0.         0.         0.09991959 0.\n",
            " 0.         0.         0.         0.         0.         0.\n",
            " 0.116881   0.08180835 0.16461347 0.         0.         0.\n",
            " 0.         0.         0.18246561 0.4447958  0.         0.\n",
            " 0.         0.         0.         0.         0.         0.\n",
            " 0.13496418 0.         0.         0.         0.         0.\n",
            " 0.         0.12902267 0.         0.         0.         0.27112046\n",
            " 0.18246561 0.         0.         0.         0.         0.\n",
            " 0.         0.18246561 0.06218936 0.09847075 0.07810559 0.0940573\n",
            " 0.         0.08843683 0.         0.         0.         0.\n",
            " 0.         0.         0.         0.07810559 0.         0.\n",
            " 0.         0.         0.         0.07810559 0.18246561 0.30181099\n",
            " 0.         0.08180835]\n",
            "Spread of Questions: [0.07653144 0.         0.         0.         0.         0.09524507\n",
            " 0.15244241 0.         0.         0.07726559 0.07322536 0.20746082\n",
            " 0.         0.14330779 0.         0.0945218  0.10059554 0.\n",
            " 0.         0.         0.100123   0.10689325 0.1352087  0.0881489\n",
            " 0.         0.         0.10463307 0.08197337 0.17540467 0.10689325\n",
            " 0.16025982 0.         0.         0.         0.08860206 0.11922618\n",
            " 0.         0.08549764 0.12801451 0.13552603 0.         0.\n",
            " 0.         0.100123   0.1059179  0.         0.11163843 0.\n",
            " 0.08197337 0.         0.12745929 0.0881489  0.06807616 0.\n",
            " 0.10644189 0.         0.         0.06462188 0.10800818 0.11314085\n",
            " 0.100123   0.         0.         0.11273357 0.         0.11495407\n",
            " 0.07653144 0.10890579 0.         0.         0.         0.06462188\n",
            " 0.12336217 0.15742283 0.11004624 0.13573679 0.09134693 0.\n",
            " 0.         0.         0.06462188 0.         0.08048276 0.06462188\n",
            " 0.09134693 0.         0.         0.         0.12030596 0.06947408\n",
            " 0.13577655 0.09134693 0.         0.12030596 0.08197337 0.08127103\n",
            " 0.12386029 0.         0.10663825 0.095155   0.         0.08127103\n",
            " 0.         0.06093599 0.         0.         0.         0.\n",
            " 0.10207086 0.08310987 0.         0.         0.14193165 0.16834632\n",
            " 0.13766569 0.1910938  0.         0.         0.         0.\n",
            " 0.16635343 0.        ]\n",
            "Spread of Answers: [0.         0.06519469 0.1749443  0.         0.08548207 0.05833502\n",
            " 0.         0.1065497  0.19588186 0.1942987  0.04518742 0.\n",
            " 0.05714099 0.04549689 0.05714099 0.16469274 0.19365788 0.05714099\n",
            " 0.14265257 0.12891433 0.         0.         0.         0.\n",
            " 0.         0.05772974 0.09373399 0.         0.         0.\n",
            " 0.09335286 0.11116465 0.         0.07228578 0.         0.\n",
            " 0.         0.2265718  0.09810464 0.22180015 0.         0.12589325\n",
            " 0.         0.07760414 0.12046684 0.11116465 0.08498185 0.09094871\n",
            " 0.         0.         0.         0.         0.08401968 0.12318627\n",
            " 0.         0.08529552 0.09404898 0.         0.         0.\n",
            " 0.         0.         0.         0.08483718 0.18407261 0.\n",
            " 0.         0.08286281 0.         0.         0.11116465 0.\n",
            " 0.         0.09402836 0.         0.         0.         0.06519469\n",
            " 0.         0.11545948 0.         0.04966597 0.         0.\n",
            " 0.         0.         0.05714099 0.1065497  0.         0.12687216\n",
            " 0.19252408 0.         0.13327877 0.         0.         0.13284896\n",
            " 0.         0.         0.03954512 0.18820825 0.         0.12833281\n",
            " 0.04966597 0.04549689 0.16179016 0.13327877 0.07228578 0.08529552\n",
            " 0.         0.05198839 0.12427915 0.         0.         0.04833257\n",
            " 0.         0.         0.1596577  0.         0.         0.\n",
            " 0.         0.        ]\n",
            "Interclass Distance between Statements and Questions: 0.5155837071618682\n",
            "Interclass Distance between Statements and Answers: 0.5102081749598664\n",
            "Interclass Distance between Questions and Answers: 0.4117130528016514\n"
          ]
        }
      ]
    },
    {
      "cell_type": "code",
      "source": [
        "import numpy as np\n",
        "import matplotlib.pyplot as plt\n",
        "\n",
        "\n",
        "\n",
        "word_counts = [len(transcript.split()) for transcript in data['Transcript']]\n",
        "\n",
        "\n",
        "hist, bin_edges = np.histogram(word_counts, bins=5)\n",
        "\n",
        "mean_word_count = np.mean(word_counts)\n",
        "variance_word_count = np.var(word_counts)\n",
        "\n",
        "plt.hist(word_counts, bins=5, edgecolor='black')\n",
        "plt.title('Histogram of Word Counts in Transcripts')\n",
        "plt.xlabel('Number of Words')\n",
        "plt.ylabel('Frequency')\n",
        "plt.grid(True)\n",
        "plt.show()\n",
        "\n",
        "\n",
        "print(\"Mean Word Count:\", mean_word_count)\n",
        "print(\"Variance of Word Count:\", variance_word_count)\n",
        ""
      ],
      "metadata": {
        "colab": {
          "base_uri": "https://localhost:8080/",
          "height": 507
        },
        "id": "DrhgvimWF-o7",
        "outputId": "ea3d01ee-3c82-4ca4-a8e6-20e2f73c0932"
      },
      "execution_count": 25,
      "outputs": [
        {
          "output_type": "display_data",
          "data": {
            "text/plain": [
              "<Figure size 640x480 with 1 Axes>"
            ],
            "image/png": "[encoded data removed]"
          },
          "metadata": {}
        },
        {
          "output_type": "stream",
          "name": "stdout",
          "text": [
            "Mean Word Count: 5.6\n",
            "Variance of Word Count: 23.44\n"
          ]
        }
      ]
    },
    {
      "cell_type": "code",
      "source": [
        "import numpy as np\n",
        "import matplotlib.pyplot as plt\n",
        "\n",
        "\n",
        "vector1 = X_all[0]\n",
        "vector2 = X_all[1]\n",
        "\n",
        "def minkowski_distance(x, y, r):\n",
        "    return np.sum(np.abs(x - y) ** r) ** (1 / r)\n",
        "\n",
        "r_values = np.arange(1, 11)\n",
        "distances = [minkowski_distance(vector1, vector2, r) for r in r_values]\n",
        "\n",
        "plt.plot(r_values, distances, marker='o')\n",
        "plt.title('Minkowski Distance between Two Feature Vectors')\n",
        "plt.xlabel('r (Minkowski Distance Parameter)')\n",
        "plt.ylabel('Distance')\n",
        "plt.grid(True)\n",
        "plt.show()\n",
        "\n",
        "for r, dist in zip(r_values, distances):\n",
        "    print(f\"Minkowski Distance (r={r}): {dist}\")\n"
      ],
      "metadata": {
        "colab": {
          "base_uri": "https://localhost:8080/",
          "height": 646
        },
        "id": "4UjhO_kyGg-w",
        "outputId": "c313df5e-bf65-427f-addc-fa3ffc99fc80"
      },
      "execution_count": 26,
      "outputs": [
        {
          "output_type": "display_data",
          "data": {
            "text/plain": [
              "<Figure size 640x480 with 1 Axes>"
            ],
            "image/png": "[encoded data removed]"
          },
          "metadata": {}
        },
        {
          "output_type": "stream",
          "name": "stdout",
          "text": [
            "Minkowski Distance (r=1): 2.3883432152748716\n",
            "Minkowski Distance (r=2): 1.4142135623730951\n",
            "Minkowski Distance (r=3): 1.203807630661758\n",
            "Minkowski Distance (r=4): 1.1193508983639573\n",
            "Minkowski Distance (r=5): 1.076536805093395\n",
            "Minkowski Distance (r=6): 1.0519130598265618\n",
            "Minkowski Distance (r=7): 1.0365648977057544\n",
            "Minkowski Distance (r=8): 1.02644929956453\n",
            "Minkowski Distance (r=9): 1.0195071261924085\n",
            "Minkowski Distance (r=10): 1.0145974716058157\n"
          ]
        }
      ]
    },
    {
      "cell_type": "code",
      "source": [
        "import numpy as np\n",
        "from sklearn.model_selection import train_test_split\n",
        "from sklearn.feature_extraction.text import TfidfVectorizer\n",
        "\n",
        "\n",
        "filtered_data = data[data['Label'].isin(['Statement', 'Question'])]\n",
        "\n",
        "vectorizer = TfidfVectorizer()\n",
        "X = vectorizer.fit_transform(filtered_data['Transcript']).toarray()\n",
        "\n",
        "y = np.where(filtered_data['Label'] == 'Statement', 0, 1)\n",
        "\n",
        "X_train, X_test, y_train, y_test = train_test_split(X, y, test_size=0.3, random_state=42)\n",
        "\n",
        "print(f\"Training set size: {X_train.shape[0]} samples\")\n",
        "print(f\"Testing set size: {X_test.shape[0]} samples\")\n"
      ],
      "metadata": {
        "colab": {
          "base_uri": "https://localhost:8080/"
        },
        "id": "OGEXnPHbP42g",
        "outputId": "a930a96f-6588-45b4-e0ea-1b685668c7d9"
      },
      "execution_count": 27,
      "outputs": [
        {
          "output_type": "stream",
          "name": "stdout",
          "text": [
            "Training set size: 33 samples\n",
            "Testing set size: 15 samples\n"
          ]
        }
      ]
    },
    {
      "cell_type": "code",
      "source": [
        "knn = KNeighborsClassifier(n_neighbors=3)\n",
        "\n",
        "knn.fit(X_train, y_train)\n",
        "\n",
        "y_pred = knn.predict(X_test)\n",
        "\n",
        "accuracy = accuracy_score(y_test, y_pred)\n",
        "conf_matrix = confusion_matrix(y_test, y_pred)\n",
        "class_report = classification_report(y_test, y_pred)\n",
        "\n",
        "print(f\"Accuracy: {accuracy}\")\n",
        "print(\"Confusion Matrix:\")\n",
        "print(conf_matrix)\n",
        "print(\"Classification Report:\")\n",
        "print(class_report)"
      ],
      "metadata": {
        "colab": {
          "base_uri": "https://localhost:8080/"
        },
        "id": "itduP03yQNxt",
        "outputId": "0a3eb97d-2f8c-47a8-8fbc-f61a6d086653"
      },
      "execution_count": 30,
      "outputs": [
        {
          "output_type": "stream",
          "name": "stdout",
          "text": [
            "Accuracy: 0.6666666666666666\n",
            "Confusion Matrix:\n",
            "[[6 5]\n",
            " [0 4]]\n",
            "Classification Report:\n",
            "              precision    recall  f1-score   support\n",
            "\n",
            "           0       1.00      0.55      0.71        11\n",
            "           1       0.44      1.00      0.62         4\n",
            "\n",
            "    accuracy                           0.67        15\n",
            "   macro avg       0.72      0.77      0.66        15\n",
            "weighted avg       0.85      0.67      0.68        15\n",
            "\n"
          ]
        }
      ]
    },
    {
      "cell_type": "code",
      "source": [
        "# Step 1: Test the accuracy of the kNN classifier using the test set\n",
        "accuracy = knn.score(X_test, y_test)\n",
        "\n",
        "# Output the accuracy\n",
        "print(f\"Accuracy of kNN classifier on the test set: {accuracy}\")\n"
      ],
      "metadata": {
        "colab": {
          "base_uri": "https://localhost:8080/"
        },
        "id": "9kzGbagRQgMR",
        "outputId": "1388c7c3-7906-431d-e537-ce0b66ffd382"
      },
      "execution_count": 32,
      "outputs": [
        {
          "output_type": "stream",
          "name": "stdout",
          "text": [
            "Accuracy of kNN classifier on the test set: 0.6666666666666666\n"
          ]
        }
      ]
    },
    {
      "cell_type": "code",
      "source": [
        "# Step 1: Predict the class labels for all test vectors\n",
        "y_pred_all = knn.predict(X_test)\n",
        "\n",
        "# Output the predicted labels\n",
        "print(\"Predicted labels for the test set:\")\n",
        "print(y_pred_all)\n",
        "\n",
        "# Step 2: Predict the class of a specific test vector\n",
        "# Select the first vector from the test set as an example\n",
        "test_vect = X_test[0]\n",
        "predicted_class = knn.predict([test_vect])\n",
        "\n",
        "# Output the predicted class for the specific test vector\n",
        "print(f\"Predicted class for the test vector {test_vect}: {predicted_class[0]}\")\n"
      ],
      "metadata": {
        "colab": {
          "base_uri": "https://localhost:8080/"
        },
        "id": "NseYgeE3RBnX",
        "outputId": "53a77c53-e742-46e9-bded-8084bfa6bc77"
      },
      "execution_count": 33,
      "outputs": [
        {
          "output_type": "stream",
          "name": "stdout",
          "text": [
            "Predicted labels for the test set:\n",
            "[0 1 0 1 1 0 1 1 1 0 1 0 0 1 1]\n",
            "Predicted class for the test vector [0. 0. 0. 0. 0. 0. 0. 0. 0. 0. 0. 0. 0. 0. 0. 0. 0. 0. 0. 0. 0. 0. 0. 0.\n",
            " 0. 0. 0. 0. 0. 0. 0. 0. 0. 0. 0. 0. 0. 0. 0. 0. 0. 0. 0. 0. 0. 0. 0. 0.\n",
            " 0. 1. 0. 0. 0. 0. 0. 0. 0. 0. 0. 0. 0. 0. 0. 0. 0. 0. 0. 0. 0. 0. 0. 0.\n",
            " 0. 0. 0. 0. 0. 0. 0. 0. 0. 0. 0. 0. 0. 0. 0. 0.]: 0\n"
          ]
        }
      ]
    },
    {
      "cell_type": "code",
      "source": [],
      "metadata": {
        "id": "rJS_v3jwRCN3"
      },
      "execution_count": null,
      "outputs": []
    }
  ]
}
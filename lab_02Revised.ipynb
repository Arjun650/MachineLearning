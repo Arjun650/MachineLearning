{
  "nbformat": 4,
  "nbformat_minor": 0,
  "metadata": {
    "colab": {
      "provenance": [],
      "mount_file_id": "1cwbc4ipiEVqsnswJY8sUOeWyT9KAjnfY",
      "authorship_tag": "ABX9TyP232MR/DPOAdsyE2rF/ZEO",
      "include_colab_link": true
    },
    "kernelspec": {
      "name": "python3",
      "display_name": "Python 3"
    },
    "language_info": {
      "name": "python"
    }
  },
  "cells": [
    {
      "cell_type": "markdown",
      "metadata": {
        "id": "view-in-github",
        "colab_type": "text"
      },
      "source": [
        "<a href=\"https://colab.research.google.com/github/Arjun650/MachineLearning/blob/main/lab_02Revised.ipynb\" target=\"_parent\"><img src=\"https://colab.research.google.com/assets/colab-badge.svg\" alt=\"Open In Colab\"/></a>"
      ]
    },
    {
      "cell_type": "code",
      "execution_count": 1,
      "metadata": {
        "id": "Kn8av0kXHIFw"
      },
      "outputs": [],
      "source": [
        "import pandas as pd\n",
        "import numpy as np\n",
        "import matplotlib.pyplot as plt\n",
        "from sklearn.feature_extraction.text import TfidfVectorizer"
      ]
    },
    {
      "cell_type": "code",
      "source": [
        "data = pd.read_csv('/content/drive/MyDrive/team01.csv')\n",
        "print(data.head(10))\n"
      ],
      "metadata": {
        "colab": {
          "base_uri": "https://localhost:8080/"
        },
        "id": "WuUP9KyMIWhn",
        "outputId": "df052c55-3d38-4b02-95d0-4e9fdfc1e9cb"
      },
      "execution_count": 3,
      "outputs": [
        {
          "output_type": "stream",
          "name": "stdout",
          "text": [
            "  Timestamp     Speaker                               Transcript      Label\n",
            "0  00:00:02   Speaker 1                                Yes, Sir.  Statement\n",
            "1  00:00:05   Speaker 1                                     And.  Statement\n",
            "2  00:00:07   Speaker 1             Then we go to with that, OK.  Statement\n",
            "3  00:00:10   Speaker 1                                 OK, Sir.  Statement\n",
            "4  00:00:11   Speaker 1                                    Yeah.  Statement\n",
            "5  00:00:13   Speaker 1           Itself is all new to yourself.  Statement\n",
            "6  00:00:19   Speaker 2                                      OK   Statement\n",
            "7  01:00:19   Speaker 1                                       OK  Statement\n",
            "8  00:00:23   Speaker 2  Can you tell me name of one classifier?   Question\n",
            "9  00:00:27   Speaker 3           Which is non linear in nature.   Question\n"
          ]
        }
      ]
    },
    {
      "cell_type": "code",
      "source": [
        "data.columns"
      ],
      "metadata": {
        "colab": {
          "base_uri": "https://localhost:8080/"
        },
        "id": "hExp-auTIanc",
        "outputId": "87d0db76-2ed6-4ac7-c463-2ae12b06ee78"
      },
      "execution_count": 5,
      "outputs": [
        {
          "output_type": "execute_result",
          "data": {
            "text/plain": [
              "Index(['Timestamp', 'Speaker', 'Transcript', 'Label'], dtype='object')"
            ]
          },
          "metadata": {},
          "execution_count": 5
        }
      ]
    },
    {
      "cell_type": "code",
      "source": [
        "vectorizer = TfidfVectorizer() # Initialize TF-IDF Vectorizer\n",
        "\n",
        "X = vectorizer.fit_transform(data['Transcript']) # Fit and transform the\n",
        "\n",
        "data_array = X.toarray() # Convert the result into an array\n",
        "\n",
        "feature_names = vectorizer.get_feature_names_out() # Get the feature names (words)\n",
        "\n",
        "df = pd.DataFrame(data_array, columns=feature_names)\n",
        "print(df)"
      ],
      "metadata": {
        "colab": {
          "base_uri": "https://localhost:8080/"
        },
        "id": "jRSpH3ivI5RU",
        "outputId": "808ecda7-2708-43c1-9983-e235e84eccc9"
      },
      "execution_count": 11,
      "outputs": [
        {
          "output_type": "stream",
          "name": "stdout",
          "text": [
            "    able  actual  actually  all   an       and       are  baidu  beaches  \\\n",
            "0    0.0     0.0  0.000000  0.0  0.0  0.000000  0.000000    0.0      0.0   \n",
            "1    0.0     0.0  0.000000  0.0  0.0  1.000000  0.000000    0.0      0.0   \n",
            "2    0.0     0.0  0.000000  0.0  0.0  0.000000  0.000000    0.0      0.0   \n",
            "3    0.0     0.0  0.000000  0.0  0.0  0.000000  0.000000    0.0      0.0   \n",
            "4    0.0     0.0  0.000000  0.0  0.0  0.000000  0.000000    0.0      0.0   \n",
            "..   ...     ...       ...  ...  ...       ...       ...    ...      ...   \n",
            "60   0.0     0.0  0.000000  0.0  0.0  0.000000  0.346022    0.0      0.0   \n",
            "61   0.0     0.0  0.000000  0.0  0.0  0.249307  0.000000    0.0      0.0   \n",
            "62   0.0     0.0  0.000000  0.0  0.0  0.000000  0.000000    0.0      0.0   \n",
            "63   0.0     0.0  0.384093  0.0  0.0  0.000000  0.000000    0.0      0.0   \n",
            "64   0.0     0.0  0.000000  0.0  0.0  0.000000  0.000000    0.0      0.0   \n",
            "\n",
            "     because  ...      what  when     which  why      will      with  yeah  \\\n",
            "0   0.000000  ...  0.000000   0.0  0.000000  0.0  0.000000  0.000000   0.0   \n",
            "1   0.000000  ...  0.000000   0.0  0.000000  0.0  0.000000  0.000000   0.0   \n",
            "2   0.000000  ...  0.000000   0.0  0.000000  0.0  0.000000  0.428056   0.0   \n",
            "3   0.000000  ...  0.000000   0.0  0.000000  0.0  0.000000  0.000000   0.0   \n",
            "4   0.000000  ...  0.000000   0.0  0.000000  0.0  0.000000  0.000000   1.0   \n",
            "..       ...  ...       ...   ...       ...  ...       ...       ...   ...   \n",
            "60  0.346022  ...  0.000000   0.0  0.000000  0.0  0.000000  0.000000   0.0   \n",
            "61  0.000000  ...  0.304868   0.0  0.304868  0.0  0.000000  0.000000   0.0   \n",
            "62  0.000000  ...  0.000000   0.0  0.000000  0.0  0.000000  0.000000   0.0   \n",
            "63  0.000000  ...  0.000000   0.0  0.000000  0.0  0.000000  0.000000   0.0   \n",
            "64  0.000000  ...  0.000000   0.0  0.000000  0.0  0.370767  0.000000   0.0   \n",
            "\n",
            "         yes      you  yourself  \n",
            "0   0.828804  0.00000       0.0  \n",
            "1   0.000000  0.00000       0.0  \n",
            "2   0.000000  0.00000       0.0  \n",
            "3   0.000000  0.00000       0.0  \n",
            "4   0.000000  0.00000       0.0  \n",
            "..       ...      ...       ...  \n",
            "60  0.000000  0.26266       0.0  \n",
            "61  0.000000  0.00000       0.0  \n",
            "62  0.000000  0.00000       0.0  \n",
            "63  0.000000  0.00000       0.0  \n",
            "64  0.000000  0.00000       0.0  \n",
            "\n",
            "[65 rows x 122 columns]\n"
          ]
        }
      ]
    },
    {
      "cell_type": "code",
      "source": [
        "X_statements = data_array[data['Label'] == 'Statement']\n",
        "X_questions = data_array[data['Label'] == 'Question']\n",
        "X_answers = data_array[data['Label'] == 'Answer']"
      ],
      "metadata": {
        "id": "X5kr9hayLWq5"
      },
      "execution_count": 14,
      "outputs": []
    },
    {
      "cell_type": "code",
      "source": [
        "centroid_statements = np.mean(X_statements, axis=0)\n",
        "centroid_questions = np.mean(X_questions, axis=0)\n",
        "centroid_answers = np.mean(X_answers, axis=0)"
      ],
      "metadata": {
        "id": "Xy0bbVPWMXnF"
      },
      "execution_count": 16,
      "outputs": []
    },
    {
      "cell_type": "code",
      "source": [
        "std_statements = np.std(X_statements, axis=0)\n",
        "std_questions = np.std(X_questions, axis=0)\n",
        "std_answers = np.std(X_answers, axis=0)\n",
        "\n",
        "print(f\"Standard Deviation for Statements: {std_statements}\")\n",
        "print(f\"Standard Deviation for Questions: {std_questions}\")\n",
        "print(f\"Standard Deviation for Answers: {std_answers}\")"
      ],
      "metadata": {
        "colab": {
          "base_uri": "https://localhost:8080/"
        },
        "id": "_dljKeHlMazy",
        "outputId": "a1ad0d34-10db-431e-ec3f-219327e92d36"
      },
      "execution_count": 18,
      "outputs": [
        {
          "output_type": "stream",
          "name": "stdout",
          "text": [
            "Standard Deviation for Statements: [0.         0.         0.         0.08180835 0.         0.18246561\n",
            " 0.         0.         0.         0.         0.         0.\n",
            " 0.         0.         0.         0.         0.         0.\n",
            " 0.         0.         0.116881   0.         0.         0.\n",
            " 0.14708501 0.         0.1200758  0.         0.         0.\n",
            " 0.11394416 0.         0.1934358  0.         0.         0.\n",
            " 0.12541445 0.         0.04775324 0.         0.08180835 0.\n",
            " 0.07354251 0.         0.         0.         0.07861532 0.\n",
            " 0.         0.12902267 0.         0.         0.09991959 0.\n",
            " 0.         0.         0.         0.         0.         0.\n",
            " 0.116881   0.08180835 0.16461347 0.         0.         0.\n",
            " 0.         0.         0.18246561 0.4447958  0.         0.\n",
            " 0.         0.         0.         0.         0.         0.\n",
            " 0.13496418 0.         0.         0.         0.         0.\n",
            " 0.         0.12902267 0.         0.         0.         0.27112046\n",
            " 0.18246561 0.         0.         0.         0.         0.\n",
            " 0.         0.18246561 0.06218936 0.09847075 0.07810559 0.0940573\n",
            " 0.         0.08843683 0.         0.         0.         0.\n",
            " 0.         0.         0.         0.07810559 0.         0.\n",
            " 0.         0.         0.         0.07810559 0.18246561 0.30181099\n",
            " 0.         0.08180835]\n",
            "Standard Deviation for Questions: [0.07653144 0.         0.         0.         0.         0.09524507\n",
            " 0.15244241 0.         0.         0.07726559 0.07322536 0.20746082\n",
            " 0.         0.14330779 0.         0.0945218  0.10059554 0.\n",
            " 0.         0.         0.100123   0.10689325 0.1352087  0.0881489\n",
            " 0.         0.         0.10463307 0.08197337 0.17540467 0.10689325\n",
            " 0.16025982 0.         0.         0.         0.08860206 0.11922618\n",
            " 0.         0.08549764 0.12801451 0.13552603 0.         0.\n",
            " 0.         0.100123   0.1059179  0.         0.11163843 0.\n",
            " 0.08197337 0.         0.12745929 0.0881489  0.06807616 0.\n",
            " 0.10644189 0.         0.         0.06462188 0.10800818 0.11314085\n",
            " 0.100123   0.         0.         0.11273357 0.         0.11495407\n",
            " 0.07653144 0.10890579 0.         0.         0.         0.06462188\n",
            " 0.12336217 0.15742283 0.11004624 0.13573679 0.09134693 0.\n",
            " 0.         0.         0.06462188 0.         0.08048276 0.06462188\n",
            " 0.09134693 0.         0.         0.         0.12030596 0.06947408\n",
            " 0.13577655 0.09134693 0.         0.12030596 0.08197337 0.08127103\n",
            " 0.12386029 0.         0.10663825 0.095155   0.         0.08127103\n",
            " 0.         0.06093599 0.         0.         0.         0.\n",
            " 0.10207086 0.08310987 0.         0.         0.14193165 0.16834632\n",
            " 0.13766569 0.1910938  0.         0.         0.         0.\n",
            " 0.16635343 0.        ]\n",
            "Standard Deviation for Answers: [0.         0.06519469 0.1749443  0.         0.08548207 0.05833502\n",
            " 0.         0.1065497  0.19588186 0.1942987  0.04518742 0.\n",
            " 0.05714099 0.04549689 0.05714099 0.16469274 0.19365788 0.05714099\n",
            " 0.14265257 0.12891433 0.         0.         0.         0.\n",
            " 0.         0.05772974 0.09373399 0.         0.         0.\n",
            " 0.09335286 0.11116465 0.         0.07228578 0.         0.\n",
            " 0.         0.2265718  0.09810464 0.22180015 0.         0.12589325\n",
            " 0.         0.07760414 0.12046684 0.11116465 0.08498185 0.09094871\n",
            " 0.         0.         0.         0.         0.08401968 0.12318627\n",
            " 0.         0.08529552 0.09404898 0.         0.         0.\n",
            " 0.         0.         0.         0.08483718 0.18407261 0.\n",
            " 0.         0.08286281 0.         0.         0.11116465 0.\n",
            " 0.         0.09402836 0.         0.         0.         0.06519469\n",
            " 0.         0.11545948 0.         0.04966597 0.         0.\n",
            " 0.         0.         0.05714099 0.1065497  0.         0.12687216\n",
            " 0.19252408 0.         0.13327877 0.         0.         0.13284896\n",
            " 0.         0.         0.03954512 0.18820825 0.         0.12833281\n",
            " 0.04966597 0.04549689 0.16179016 0.13327877 0.07228578 0.08529552\n",
            " 0.         0.05198839 0.12427915 0.         0.         0.04833257\n",
            " 0.         0.         0.1596577  0.         0.         0.\n",
            " 0.         0.        ]\n"
          ]
        }
      ]
    },
    {
      "cell_type": "code",
      "source": [
        "# Distance between Statements and Questions\n",
        "distance_statements_questions = np.linalg.norm(centroid_statements - centroid_questions)\n",
        "\n",
        "# Distance between Statements and Answers\n",
        "distance_statements_answers = np.linalg.norm(centroid_statements - centroid_answers)\n",
        "\n",
        "# Distance between Questions and Answers\n",
        "distance_questions_answers = np.linalg.norm(centroid_questions - centroid_answers)\n",
        "\n",
        "print(f\"Distance between Statements and Questions: {distance_statements_questions}\")\n",
        "print(f\"Distance between Statements and Answers: {distance_statements_answers}\")\n",
        "print(f\"Distance between Questions and Answers: {distance_questions_answers}\")"
      ],
      "metadata": {
        "id": "NqVdQtpFNCDg"
      },
      "execution_count": null,
      "outputs": []
    }
  ]
}
{
  "nbformat": 4,
  "nbformat_minor": 0,
  "metadata": {
    "colab": {
      "provenance": [],
      "authorship_tag": "ABX9TyNoTSt95gp5Rp8Qd1X0mP6+",
      "include_colab_link": true
    },
    "kernelspec": {
      "name": "python3",
      "display_name": "Python 3"
    },
    "language_info": {
      "name": "python"
    }
  },
  "cells": [
    {
      "cell_type": "markdown",
      "metadata": {
        "id": "view-in-github",
        "colab_type": "text"
      },
      "source": [
        "<a href=\"https://colab.research.google.com/github/Arjun650/MachineLearning/blob/main/Lab_01.ipynb\" target=\"_parent\"><img src=\"https://colab.research.google.com/assets/colab-badge.svg\" alt=\"Open In Colab\"/></a>"
      ]
    },
    {
      "cell_type": "markdown",
      "source": [
        "\n",
        "**Lab_01**"
      ],
      "metadata": {
        "id": "Pb0ObpsRZJb2"
      }
    },
    {
      "cell_type": "code",
      "source": [
        "#program to count number of vowel and consonant\n",
        "inputString = input('Enter the string')\n",
        "\n",
        "vowelCount = 0\n",
        "consonantCount = 0\n",
        "\n",
        "for char in inputString:\n",
        "  if(char == 'a' or char == 'e' or char == 'i' or char == 'o' or char =='u' ):\n",
        "    vowelCount += 1\n",
        "  else:\n",
        "    consonantCount += 1\n",
        "\n",
        "print(vowelCount)\n",
        "print(consonantCount)"
      ],
      "metadata": {
        "colab": {
          "base_uri": "https://localhost:8080/"
        },
        "id": "Sw8lmpkhU-ke",
        "outputId": "f8107f9c-4cdd-4705-d290-a04d692be9eb"
      },
      "execution_count": 1,
      "outputs": [
        {
          "output_type": "stream",
          "name": "stdout",
          "text": [
            "Enter the stringarjun\n",
            "2\n",
            "3\n"
          ]
        }
      ]
    },
    {
      "cell_type": "code",
      "source": [
        "#program to count number of vowel and consonant\n",
        "def countVowelConsonant(inputString):\n",
        "  vowelString = 'aAeEiIoOuU'\n",
        "  countVowel =  0\n",
        "  countConsonant = 0\n",
        "\n",
        "  for char in inputString:\n",
        "    if char.isalpha():\n",
        "      if char in vowelString:\n",
        "        countVowel += 1\n",
        "      else:\n",
        "        countConsonant += 1\n",
        "\n",
        "  return countVowel , countConsonant\n",
        "\n",
        "stringInput = input('Enter the string')\n",
        "cVowel, cConsonant = countVowelConsonant(stringInput)\n",
        "\n",
        "print('Vowel', cVowel)\n",
        "print('Consonant', cConsonant)"
      ],
      "metadata": {
        "colab": {
          "base_uri": "https://localhost:8080/"
        },
        "id": "CpsI94JyXK0K",
        "outputId": "b8cbc3a2-a23e-401e-9087-2c5f661f317e"
      },
      "execution_count": 2,
      "outputs": [
        {
          "output_type": "stream",
          "name": "stdout",
          "text": [
            "Enter the stringaeiou\n",
            "Vowel 5\n",
            "Consonant 0\n"
          ]
        }
      ]
    },
    {
      "cell_type": "code",
      "source": [
        "print('Test for Github')"
      ],
      "metadata": {
        "id": "2zjaeII-dBFY",
        "outputId": "24e8ee6e-8fad-4656-c721-c2eabd353cea",
        "colab": {
          "base_uri": "https://localhost:8080/"
        }
      },
      "execution_count": 3,
      "outputs": [
        {
          "output_type": "stream",
          "name": "stdout",
          "text": [
            "Test for Github\n"
          ]
        }
      ]
    },
    {
      "cell_type": "code",
      "source": [
        "#program to return product of two matrix and return error message if not applicable\n",
        "\n",
        "def matrixMultiplication(matA, matB):\n",
        "  if(len(matA[0]) != len(matB)):\n",
        "    print(\"Matrix cannot be multiplicated\")\n",
        "\n",
        "  rowA = len(matA)\n",
        "  colA = len(matA[0])\n",
        "  rowB = len(matB)\n",
        "  colB = len(matB[0])\n",
        "\n",
        "  result2d = [[0 for _ in range(colB)] for _ in range(rowA)]\n",
        "\n",
        "  for i in range(rowA):\n",
        "    for j in range(colB):\n",
        "        result2d[i][j] = 0\n",
        "        for k in range(colA):\n",
        "          result2d[i][j] += matA[i][k] * matB[k][j]\n",
        "  return result2d\n",
        "\n",
        "A = [\n",
        "    [1, 2, 3],\n",
        "    [4, 5, 6]\n",
        "]\n",
        "\n",
        "B = [\n",
        "    [7, 8],\n",
        "    [9, 10],\n",
        "    [11, 12]\n",
        "]\n",
        "\n",
        "result = matrixMultiplication(A, B)\n",
        "for row in result:\n",
        "    print(row)\n",
        "\n"
      ],
      "metadata": {
        "colab": {
          "base_uri": "https://localhost:8080/"
        },
        "id": "yItL2q8zj-QM",
        "outputId": "24c35b20-5eff-4879-886b-ffb14878e633"
      },
      "execution_count": 4,
      "outputs": [
        {
          "output_type": "stream",
          "name": "stdout",
          "text": [
            "[58, 64]\n",
            "[139, 154]\n"
          ]
        }
      ]
    },
    {
      "cell_type": "code",
      "source": [
        "# program to find number of common elements between two list\n",
        "\n",
        "def commonElements(listA, listB):\n",
        "  resultList = []\n",
        "  for i in listA:\n",
        "    if(i in listB):\n",
        "      resultList.append(i)\n",
        "\n",
        "  return resultList\n",
        "\n",
        "list1 = [1, 2, 3, 4]\n",
        "list2 = [2,3,5,6]\n",
        "\n",
        "res = commonElements(list1, list2)\n",
        "print(res)\n"
      ],
      "metadata": {
        "colab": {
          "base_uri": "https://localhost:8080/"
        },
        "id": "5PASBO6Eo6uE",
        "outputId": "68cf914a-1f28-4ac2-aeb8-21e9dc35e09d"
      },
      "execution_count": 5,
      "outputs": [
        {
          "output_type": "stream",
          "name": "stdout",
          "text": [
            "[2, 3]\n"
          ]
        }
      ]
    },
    {
      "cell_type": "code",
      "source": [
        "# program to take matrix as input and return its transpose\n",
        "\n",
        "def calculateTranspose(matrix):\n",
        "  resultMatrix =[]\n",
        "\n",
        "  for i in range(len(matrix)):\n",
        "    mat = []\n",
        "    for j in range(len(matrix[0])):\n",
        "      mat.append(matrix[j][i])\n",
        "    resultMatrix.append(mat)\n",
        "\n",
        "  return resultMatrix\n",
        "\n",
        "matrix = [\n",
        "    [1,2,3],\n",
        "    [4,5,6],\n",
        "    [7,8,9]\n",
        "]\n",
        "resultMatrix = calculateTranspose(matrix)\n",
        "for a in resultMatrix:\n",
        "  print(a)"
      ],
      "metadata": {
        "colab": {
          "base_uri": "https://localhost:8080/"
        },
        "id": "0OZParoMqwVs",
        "outputId": "fc0678dc-8fca-463f-aa16-6f7de0bf484a"
      },
      "execution_count": 6,
      "outputs": [
        {
          "output_type": "stream",
          "name": "stdout",
          "text": [
            "[1, 4, 7]\n",
            "[2, 5, 8]\n",
            "[3, 6, 9]\n"
          ]
        }
      ]
    }
  ]
}
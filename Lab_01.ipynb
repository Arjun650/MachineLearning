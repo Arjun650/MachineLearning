{
  "nbformat": 4,
  "nbformat_minor": 0,
  "metadata": {
    "colab": {
      "provenance": [],
      "authorship_tag": "ABX9TyPYb9Uwmi73bDx2TG1vShzY",
      "include_colab_link": true
    },
    "kernelspec": {
      "name": "python3",
      "display_name": "Python 3"
    },
    "language_info": {
      "name": "python"
    }
  },
  "cells": [
    {
      "cell_type": "markdown",
      "metadata": {
        "id": "view-in-github",
        "colab_type": "text"
      },
      "source": [
        "<a href=\"https://colab.research.google.com/github/Arjun650/MachineLearning/blob/main/Lab_01.ipynb\" target=\"_parent\"><img src=\"https://colab.research.google.com/assets/colab-badge.svg\" alt=\"Open In Colab\"/></a>"
      ]
    },
    {
      "cell_type": "markdown",
      "source": [
        "\n",
        "**Lab_01**"
      ],
      "metadata": {
        "id": "Pb0ObpsRZJb2"
      }
    },
    {
      "cell_type": "code",
      "source": [
        "#program to count number of vowel and consonant\n",
        "inputString = input('Enter the string')\n",
        "\n",
        "vowelCount = 0\n",
        "consonantCount = 0\n",
        "\n",
        "for char in inputString:\n",
        "  if(char == 'a' or char == 'e' or char == 'i' or char == 'o' or char =='u' ):\n",
        "    vowelCount += 1\n",
        "  else:\n",
        "    consonantCount += 1\n",
        "\n",
        "print(vowelCount)\n",
        "print(consonantCount)"
      ],
      "metadata": {
        "colab": {
          "base_uri": "https://localhost:8080/"
        },
        "id": "Sw8lmpkhU-ke",
        "outputId": "a808c523-a98e-45e3-84ad-760dba433031"
      },
      "execution_count": null,
      "outputs": [
        {
          "output_type": "stream",
          "name": "stdout",
          "text": [
            "Enter the stringarjun\n",
            "2\n",
            "3\n"
          ]
        }
      ]
    },
    {
      "cell_type": "code",
      "source": [
        "#program to count number of vowel and consonant\n",
        "def countVowelConsonant(inputString):\n",
        "  vowelString = 'aAeEiIoOuU'\n",
        "  countVowel =  0\n",
        "  countConsonant = 0\n",
        "\n",
        "  for char in inputString:\n",
        "    if char.isalpha():\n",
        "      if char in vowelString:\n",
        "        countVowel += 1\n",
        "      else:\n",
        "        countConsonant += 1\n",
        "\n",
        "  return countVowel , countConsonant\n",
        "\n",
        "stringInput = input('Enter the string')\n",
        "cVowel, cConsonant = countVowelConsonant(stringInput)\n",
        "\n",
        "print('Vowel', cVowel)\n",
        "print('Consonant', cConsonant)"
      ],
      "metadata": {
        "colab": {
          "base_uri": "https://localhost:8080/"
        },
        "id": "CpsI94JyXK0K",
        "outputId": "2c2e4647-01b8-4202-b475-0ba1bfb2587f"
      },
      "execution_count": null,
      "outputs": [
        {
          "output_type": "stream",
          "name": "stdout",
          "text": [
            "Enter the stringaeiou\n",
            "Vowel 5\n",
            "Consonant 0\n"
          ]
        }
      ]
    }
  ]
}
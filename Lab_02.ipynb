{
  "nbformat": 4,
  "nbformat_minor": 0,
  "metadata": {
    "colab": {
      "provenance": [],
      "mount_file_id": "18k_Ai_InStUEQeYGwYk2laBFViPbc99n",
      "authorship_tag": "ABX9TyMTvCvUWrL6gHO1XxYNWT57",
      "include_colab_link": true
    },
    "kernelspec": {
      "name": "python3",
      "display_name": "Python 3"
    },
    "language_info": {
      "name": "python"
    }
  },
  "cells": [
    {
      "cell_type": "markdown",
      "metadata": {
        "id": "view-in-github",
        "colab_type": "text"
      },
      "source": [
        "<a href=\"https://colab.research.google.com/github/Arjun650/MachineLearning/blob/main/Lab_02.ipynb\" target=\"_parent\"><img src=\"https://colab.research.google.com/assets/colab-badge.svg\" alt=\"Open In Colab\"/></a>"
      ]
    },
    {
      "cell_type": "code",
      "execution_count": 25,
      "metadata": {
        "id": "ck0n4pD1T-sa"
      },
      "outputs": [],
      "source": [
        "import pandas as pd\n",
        "import numpy as np\n",
        "\n",
        "df = pd.read_excel('labSession.xlsx')\n",
        "DFfinal = df.iloc[0:12, 1:5]\n",
        "\n",
        "A = DFfinal.iloc[:, :-1]\n",
        "B = DFfinal.iloc[:, -1]"
      ]
    },
    {
      "cell_type": "code",
      "source": [
        "# Dimensionality\n",
        "\n",
        "DimensionalityOfA = np.shape(A)\n",
        "DimensionalityOfB = np.shape(B)\n",
        "print(DimensionalityOfA)\n",
        "print(DimensionalityOfB)\n"
      ],
      "metadata": {
        "colab": {
          "base_uri": "https://localhost:8080/"
        },
        "id": "Q2BU5uBfgBfE",
        "outputId": "685ed00c-00db-46d7-8c05-a53a282de2d1"
      },
      "execution_count": 26,
      "outputs": [
        {
          "output_type": "stream",
          "name": "stdout",
          "text": [
            "(10, 3)\n",
            "(10,)\n"
          ]
        }
      ]
    },
    {
      "cell_type": "code",
      "source": [],
      "metadata": {
        "id": "Ibjq0sclkQ5f"
      },
      "execution_count": null,
      "outputs": []
    }
  ]
}
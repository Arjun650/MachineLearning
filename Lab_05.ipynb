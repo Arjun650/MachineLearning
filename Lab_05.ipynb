{
  "nbformat": 4,
  "nbformat_minor": 0,
  "metadata": {
    "colab": {
      "provenance": [],
      "mount_file_id": "1oIjVLQFE_wyhg1eCQi5HOguRZeeqq4ov",
      "authorship_tag": "ABX9TyNHOnyMXFt+WUEKQnEDmucK",
      "include_colab_link": true
    },
    "kernelspec": {
      "name": "python3",
      "display_name": "Python 3"
    },
    "language_info": {
      "name": "python"
    }
  },
  "cells": [
    {
      "cell_type": "markdown",
      "metadata": {
        "id": "view-in-github",
        "colab_type": "text"
      },
      "source": [
        "<a href=\"https://colab.research.google.com/github/Arjun650/MachineLearning/blob/main/Lab_05.ipynb\" target=\"_parent\"><img src=\"https://colab.research.google.com/assets/colab-badge.svg\" alt=\"Open In Colab\"/></a>"
      ]
    },
    {
      "cell_type": "code",
      "execution_count": 1,
      "metadata": {
        "id": "tqYpbEaDWV1-"
      },
      "outputs": [],
      "source": [
        "import pandas as pd\n",
        "import numpy as np\n",
        "import matplotlib.pyplot as plt\n",
        "from sklearn.model_selection import train_test_split\n",
        "from sklearn.preprocessing import OneHotEncoder\n",
        "from sklearn.linear_model import LinearRegression\n",
        "from sklearn.metrics import mean_squared_error, r2_score, mean_absolute_error"
      ]
    },
    {
      "cell_type": "code",
      "source": [
        "df = pd.read_csv('/content/drive/MyDrive/combined_dataset.csv')\n",
        "df"
      ],
      "metadata": {
        "id": "JJK1rtSVW04G",
        "colab": {
          "base_uri": "https://localhost:8080/",
          "height": 423
        },
        "outputId": "8359822b-8906-4058-9651-5e95f8418fa0"
      },
      "execution_count": 2,
      "outputs": [
        {
          "output_type": "execute_result",
          "data": {
            "text/plain": [
              "     Time Stamp    Speaker                                         Transcript  \\\n",
              "0      00:00:04  Speaker 1                                              Yeah.   \n",
              "1      00:00:05  Speaker 1  So can you tell me now? We'll go one after ano...   \n",
              "2      00:00:13  Speaker 2                                      OK, OK. Yeah.   \n",
              "3      00:00:15  Speaker 1                                        So tell me.   \n",
              "4      00:00:19  Speaker 1                What is sampling? What is sampling?   \n",
              "...         ...        ...                                                ...   \n",
              "3657   00:10:28  Speaker 2                           OK. Thank you very much.   \n",
              "3658   00:10:29  Speaker 3                             So basically, yes Sir.   \n",
              "3659   00:10:32  Speaker 2                          You are saying something?   \n",
              "3660   00:10:33  Speaker 3                       No, Sir. No, Sir. Thank you.   \n",
              "3661   00:10:36  Speaker 2                          Have a good evening. Bye.   \n",
              "\n",
              "          Label  Numeric_Label  \n",
              "0     Statement              1  \n",
              "1     Statement              1  \n",
              "2     Statement              1  \n",
              "3     Statement              1  \n",
              "4      Question             -1  \n",
              "...         ...            ...  \n",
              "3657  Statement              1  \n",
              "3658  Statement              1  \n",
              "3659   Question             -1  \n",
              "3660  Statement              1  \n",
              "3661  Statement              1  \n",
              "\n",
              "[3662 rows x 5 columns]"
            ],
            "text/html": [
              "\n",
              "  <div id=\"df-fc8b4b76-6a39-4b00-8ff7-6ef042cc2d1c\" class=\"colab-df-container\">\n",
              "    <div>\n",
              "<style scoped>\n",
              "    .dataframe tbody tr th:only-of-type {\n",
              "        vertical-align: middle;\n",
              "    }\n",
              "\n",
              "    .dataframe tbody tr th {\n",
              "        vertical-align: top;\n",
              "    }\n",
              "\n",
              "    .dataframe thead th {\n",
              "        text-align: right;\n",
              "    }\n",
              "</style>\n",
              "<table border=\"1\" class=\"dataframe\">\n",
              "  <thead>\n",
              "    <tr style=\"text-align: right;\">\n",
              "      <th></th>\n",
              "      <th>Time Stamp</th>\n",
              "      <th>Speaker</th>\n",
              "      <th>Transcript</th>\n",
              "      <th>Label</th>\n",
              "      <th>Numeric_Label</th>\n",
              "    </tr>\n",
              "  </thead>\n",
              "  <tbody>\n",
              "    <tr>\n",
              "      <th>0</th>\n",
              "      <td>00:00:04</td>\n",
              "      <td>Speaker 1</td>\n",
              "      <td>Yeah.</td>\n",
              "      <td>Statement</td>\n",
              "      <td>1</td>\n",
              "    </tr>\n",
              "    <tr>\n",
              "      <th>1</th>\n",
              "      <td>00:00:05</td>\n",
              "      <td>Speaker 1</td>\n",
              "      <td>So can you tell me now? We'll go one after ano...</td>\n",
              "      <td>Statement</td>\n",
              "      <td>1</td>\n",
              "    </tr>\n",
              "    <tr>\n",
              "      <th>2</th>\n",
              "      <td>00:00:13</td>\n",
              "      <td>Speaker 2</td>\n",
              "      <td>OK, OK. Yeah.</td>\n",
              "      <td>Statement</td>\n",
              "      <td>1</td>\n",
              "    </tr>\n",
              "    <tr>\n",
              "      <th>3</th>\n",
              "      <td>00:00:15</td>\n",
              "      <td>Speaker 1</td>\n",
              "      <td>So tell me.</td>\n",
              "      <td>Statement</td>\n",
              "      <td>1</td>\n",
              "    </tr>\n",
              "    <tr>\n",
              "      <th>4</th>\n",
              "      <td>00:00:19</td>\n",
              "      <td>Speaker 1</td>\n",
              "      <td>What is sampling? What is sampling?</td>\n",
              "      <td>Question</td>\n",
              "      <td>-1</td>\n",
              "    </tr>\n",
              "    <tr>\n",
              "      <th>...</th>\n",
              "      <td>...</td>\n",
              "      <td>...</td>\n",
              "      <td>...</td>\n",
              "      <td>...</td>\n",
              "      <td>...</td>\n",
              "    </tr>\n",
              "    <tr>\n",
              "      <th>3657</th>\n",
              "      <td>00:10:28</td>\n",
              "      <td>Speaker 2</td>\n",
              "      <td>OK. Thank you very much.</td>\n",
              "      <td>Statement</td>\n",
              "      <td>1</td>\n",
              "    </tr>\n",
              "    <tr>\n",
              "      <th>3658</th>\n",
              "      <td>00:10:29</td>\n",
              "      <td>Speaker 3</td>\n",
              "      <td>So basically, yes Sir.</td>\n",
              "      <td>Statement</td>\n",
              "      <td>1</td>\n",
              "    </tr>\n",
              "    <tr>\n",
              "      <th>3659</th>\n",
              "      <td>00:10:32</td>\n",
              "      <td>Speaker 2</td>\n",
              "      <td>You are saying something?</td>\n",
              "      <td>Question</td>\n",
              "      <td>-1</td>\n",
              "    </tr>\n",
              "    <tr>\n",
              "      <th>3660</th>\n",
              "      <td>00:10:33</td>\n",
              "      <td>Speaker 3</td>\n",
              "      <td>No, Sir. No, Sir. Thank you.</td>\n",
              "      <td>Statement</td>\n",
              "      <td>1</td>\n",
              "    </tr>\n",
              "    <tr>\n",
              "      <th>3661</th>\n",
              "      <td>00:10:36</td>\n",
              "      <td>Speaker 2</td>\n",
              "      <td>Have a good evening. Bye.</td>\n",
              "      <td>Statement</td>\n",
              "      <td>1</td>\n",
              "    </tr>\n",
              "  </tbody>\n",
              "</table>\n",
              "<p>3662 rows × 5 columns</p>\n",
              "</div>\n",
              "    <div class=\"colab-df-buttons\">\n",
              "\n",
              "  <div class=\"colab-df-container\">\n",
              "    <button class=\"colab-df-convert\" onclick=\"convertToInteractive('df-fc8b4b76-6a39-4b00-8ff7-6ef042cc2d1c')\"\n",
              "            title=\"Convert this dataframe to an interactive table.\"\n",
              "            style=\"display:none;\">\n",
              "\n",
              "  <svg xmlns=\"http://www.w3.org/2000/svg\" height=\"24px\" viewBox=\"0 -960 960 960\">\n",
              "    <path d=\"M120-120v-720h720v720H120Zm60-500h600v-160H180v160Zm220 220h160v-160H400v160Zm0 220h160v-160H400v160ZM180-400h160v-160H180v160Zm440 0h160v-160H620v160ZM180-180h160v-160H180v160Zm440 0h160v-160H620v160Z\"/>\n",
              "  </svg>\n",
              "    </button>\n",
              "\n",
              "  <style>\n",
              "    .colab-df-container {\n",
              "      display:flex;\n",
              "      gap: 12px;\n",
              "    }\n",
              "\n",
              "    .colab-df-convert {\n",
              "      background-color: #E8F0FE;\n",
              "      border: none;\n",
              "      border-radius: 50%;\n",
              "      cursor: pointer;\n",
              "      display: none;\n",
              "      fill: #1967D2;\n",
              "      height: 32px;\n",
              "      padding: 0 0 0 0;\n",
              "      width: 32px;\n",
              "    }\n",
              "\n",
              "    .colab-df-convert:hover {\n",
              "      background-color: #E2EBFA;\n",
              "      box-shadow: 0px 1px 2px rgba(60, 64, 67, 0.3), 0px 1px 3px 1px rgba(60, 64, 67, 0.15);\n",
              "      fill: #174EA6;\n",
              "    }\n",
              "\n",
              "    .colab-df-buttons div {\n",
              "      margin-bottom: 4px;\n",
              "    }\n",
              "\n",
              "    [theme=dark] .colab-df-convert {\n",
              "      background-color: #3B4455;\n",
              "      fill: #D2E3FC;\n",
              "    }\n",
              "\n",
              "    [theme=dark] .colab-df-convert:hover {\n",
              "      background-color: #434B5C;\n",
              "      box-shadow: 0px 1px 3px 1px rgba(0, 0, 0, 0.15);\n",
              "      filter: drop-shadow(0px 1px 2px rgba(0, 0, 0, 0.3));\n",
              "      fill: #FFFFFF;\n",
              "    }\n",
              "  </style>\n",
              "\n",
              "    <script>\n",
              "      const buttonEl =\n",
              "        document.querySelector('#df-fc8b4b76-6a39-4b00-8ff7-6ef042cc2d1c button.colab-df-convert');\n",
              "      buttonEl.style.display =\n",
              "        google.colab.kernel.accessAllowed ? 'block' : 'none';\n",
              "\n",
              "      async function convertToInteractive(key) {\n",
              "        const element = document.querySelector('#df-fc8b4b76-6a39-4b00-8ff7-6ef042cc2d1c');\n",
              "        const dataTable =\n",
              "          await google.colab.kernel.invokeFunction('convertToInteractive',\n",
              "                                                    [key], {});\n",
              "        if (!dataTable) return;\n",
              "\n",
              "        const docLinkHtml = 'Like what you see? Visit the ' +\n",
              "          '<a target=\"_blank\" href=https://colab.research.google.com/notebooks/data_table.ipynb>data table notebook</a>'\n",
              "          + ' to learn more about interactive tables.';\n",
              "        element.innerHTML = '';\n",
              "        dataTable['output_type'] = 'display_data';\n",
              "        await google.colab.output.renderOutput(dataTable, element);\n",
              "        const docLink = document.createElement('div');\n",
              "        docLink.innerHTML = docLinkHtml;\n",
              "        element.appendChild(docLink);\n",
              "      }\n",
              "    </script>\n",
              "  </div>\n",
              "\n",
              "\n",
              "<div id=\"df-a0a0a179-4243-4b85-bc2c-20f66f475fb5\">\n",
              "  <button class=\"colab-df-quickchart\" onclick=\"quickchart('df-a0a0a179-4243-4b85-bc2c-20f66f475fb5')\"\n",
              "            title=\"Suggest charts\"\n",
              "            style=\"display:none;\">\n",
              "\n",
              "<svg xmlns=\"http://www.w3.org/2000/svg\" height=\"24px\"viewBox=\"0 0 24 24\"\n",
              "     width=\"24px\">\n",
              "    <g>\n",
              "        <path d=\"M19 3H5c-1.1 0-2 .9-2 2v14c0 1.1.9 2 2 2h14c1.1 0 2-.9 2-2V5c0-1.1-.9-2-2-2zM9 17H7v-7h2v7zm4 0h-2V7h2v10zm4 0h-2v-4h2v4z\"/>\n",
              "    </g>\n",
              "</svg>\n",
              "  </button>\n",
              "\n",
              "<style>\n",
              "  .colab-df-quickchart {\n",
              "      --bg-color: #E8F0FE;\n",
              "      --fill-color: #1967D2;\n",
              "      --hover-bg-color: #E2EBFA;\n",
              "      --hover-fill-color: #174EA6;\n",
              "      --disabled-fill-color: #AAA;\n",
              "      --disabled-bg-color: #DDD;\n",
              "  }\n",
              "\n",
              "  [theme=dark] .colab-df-quickchart {\n",
              "      --bg-color: #3B4455;\n",
              "      --fill-color: #D2E3FC;\n",
              "      --hover-bg-color: #434B5C;\n",
              "      --hover-fill-color: #FFFFFF;\n",
              "      --disabled-bg-color: #3B4455;\n",
              "      --disabled-fill-color: #666;\n",
              "  }\n",
              "\n",
              "  .colab-df-quickchart {\n",
              "    background-color: var(--bg-color);\n",
              "    border: none;\n",
              "    border-radius: 50%;\n",
              "    cursor: pointer;\n",
              "    display: none;\n",
              "    fill: var(--fill-color);\n",
              "    height: 32px;\n",
              "    padding: 0;\n",
              "    width: 32px;\n",
              "  }\n",
              "\n",
              "  .colab-df-quickchart:hover {\n",
              "    background-color: var(--hover-bg-color);\n",
              "    box-shadow: 0 1px 2px rgba(60, 64, 67, 0.3), 0 1px 3px 1px rgba(60, 64, 67, 0.15);\n",
              "    fill: var(--button-hover-fill-color);\n",
              "  }\n",
              "\n",
              "  .colab-df-quickchart-complete:disabled,\n",
              "  .colab-df-quickchart-complete:disabled:hover {\n",
              "    background-color: var(--disabled-bg-color);\n",
              "    fill: var(--disabled-fill-color);\n",
              "    box-shadow: none;\n",
              "  }\n",
              "\n",
              "  .colab-df-spinner {\n",
              "    border: 2px solid var(--fill-color);\n",
              "    border-color: transparent;\n",
              "    border-bottom-color: var(--fill-color);\n",
              "    animation:\n",
              "      spin 1s steps(1) infinite;\n",
              "  }\n",
              "\n",
              "  @keyframes spin {\n",
              "    0% {\n",
              "      border-color: transparent;\n",
              "      border-bottom-color: var(--fill-color);\n",
              "      border-left-color: var(--fill-color);\n",
              "    }\n",
              "    20% {\n",
              "      border-color: transparent;\n",
              "      border-left-color: var(--fill-color);\n",
              "      border-top-color: var(--fill-color);\n",
              "    }\n",
              "    30% {\n",
              "      border-color: transparent;\n",
              "      border-left-color: var(--fill-color);\n",
              "      border-top-color: var(--fill-color);\n",
              "      border-right-color: var(--fill-color);\n",
              "    }\n",
              "    40% {\n",
              "      border-color: transparent;\n",
              "      border-right-color: var(--fill-color);\n",
              "      border-top-color: var(--fill-color);\n",
              "    }\n",
              "    60% {\n",
              "      border-color: transparent;\n",
              "      border-right-color: var(--fill-color);\n",
              "    }\n",
              "    80% {\n",
              "      border-color: transparent;\n",
              "      border-right-color: var(--fill-color);\n",
              "      border-bottom-color: var(--fill-color);\n",
              "    }\n",
              "    90% {\n",
              "      border-color: transparent;\n",
              "      border-bottom-color: var(--fill-color);\n",
              "    }\n",
              "  }\n",
              "</style>\n",
              "\n",
              "  <script>\n",
              "    async function quickchart(key) {\n",
              "      const quickchartButtonEl =\n",
              "        document.querySelector('#' + key + ' button');\n",
              "      quickchartButtonEl.disabled = true;  // To prevent multiple clicks.\n",
              "      quickchartButtonEl.classList.add('colab-df-spinner');\n",
              "      try {\n",
              "        const charts = await google.colab.kernel.invokeFunction(\n",
              "            'suggestCharts', [key], {});\n",
              "      } catch (error) {\n",
              "        console.error('Error during call to suggestCharts:', error);\n",
              "      }\n",
              "      quickchartButtonEl.classList.remove('colab-df-spinner');\n",
              "      quickchartButtonEl.classList.add('colab-df-quickchart-complete');\n",
              "    }\n",
              "    (() => {\n",
              "      let quickchartButtonEl =\n",
              "        document.querySelector('#df-a0a0a179-4243-4b85-bc2c-20f66f475fb5 button');\n",
              "      quickchartButtonEl.style.display =\n",
              "        google.colab.kernel.accessAllowed ? 'block' : 'none';\n",
              "    })();\n",
              "  </script>\n",
              "</div>\n",
              "\n",
              "  <div id=\"id_39e6f6c2-6b71-419f-b8a9-5b65b1dce08b\">\n",
              "    <style>\n",
              "      .colab-df-generate {\n",
              "        background-color: #E8F0FE;\n",
              "        border: none;\n",
              "        border-radius: 50%;\n",
              "        cursor: pointer;\n",
              "        display: none;\n",
              "        fill: #1967D2;\n",
              "        height: 32px;\n",
              "        padding: 0 0 0 0;\n",
              "        width: 32px;\n",
              "      }\n",
              "\n",
              "      .colab-df-generate:hover {\n",
              "        background-color: #E2EBFA;\n",
              "        box-shadow: 0px 1px 2px rgba(60, 64, 67, 0.3), 0px 1px 3px 1px rgba(60, 64, 67, 0.15);\n",
              "        fill: #174EA6;\n",
              "      }\n",
              "\n",
              "      [theme=dark] .colab-df-generate {\n",
              "        background-color: #3B4455;\n",
              "        fill: #D2E3FC;\n",
              "      }\n",
              "\n",
              "      [theme=dark] .colab-df-generate:hover {\n",
              "        background-color: #434B5C;\n",
              "        box-shadow: 0px 1px 3px 1px rgba(0, 0, 0, 0.15);\n",
              "        filter: drop-shadow(0px 1px 2px rgba(0, 0, 0, 0.3));\n",
              "        fill: #FFFFFF;\n",
              "      }\n",
              "    </style>\n",
              "    <button class=\"colab-df-generate\" onclick=\"generateWithVariable('df')\"\n",
              "            title=\"Generate code using this dataframe.\"\n",
              "            style=\"display:none;\">\n",
              "\n",
              "  <svg xmlns=\"http://www.w3.org/2000/svg\" height=\"24px\"viewBox=\"0 0 24 24\"\n",
              "       width=\"24px\">\n",
              "    <path d=\"M7,19H8.4L18.45,9,17,7.55,7,17.6ZM5,21V16.75L18.45,3.32a2,2,0,0,1,2.83,0l1.4,1.43a1.91,1.91,0,0,1,.58,1.4,1.91,1.91,0,0,1-.58,1.4L9.25,21ZM18.45,9,17,7.55Zm-12,3A5.31,5.31,0,0,0,4.9,8.1,5.31,5.31,0,0,0,1,6.5,5.31,5.31,0,0,0,4.9,4.9,5.31,5.31,0,0,0,6.5,1,5.31,5.31,0,0,0,8.1,4.9,5.31,5.31,0,0,0,12,6.5,5.46,5.46,0,0,0,6.5,12Z\"/>\n",
              "  </svg>\n",
              "    </button>\n",
              "    <script>\n",
              "      (() => {\n",
              "      const buttonEl =\n",
              "        document.querySelector('#id_39e6f6c2-6b71-419f-b8a9-5b65b1dce08b button.colab-df-generate');\n",
              "      buttonEl.style.display =\n",
              "        google.colab.kernel.accessAllowed ? 'block' : 'none';\n",
              "\n",
              "      buttonEl.onclick = () => {\n",
              "        google.colab.notebook.generateWithVariable('df');\n",
              "      }\n",
              "      })();\n",
              "    </script>\n",
              "  </div>\n",
              "\n",
              "    </div>\n",
              "  </div>\n"
            ],
            "application/vnd.google.colaboratory.intrinsic+json": {
              "type": "dataframe",
              "variable_name": "df",
              "summary": "{\n  \"name\": \"df\",\n  \"rows\": 3662,\n  \"fields\": [\n    {\n      \"column\": \"Time Stamp\",\n      \"properties\": {\n        \"dtype\": \"object\",\n        \"num_unique_values\": 924,\n        \"samples\": [\n          \"00:07:10\",\n          \"00:14:19\",\n          \"00:03:32\"\n        ],\n        \"semantic_type\": \"\",\n        \"description\": \"\"\n      }\n    },\n    {\n      \"column\": \"Speaker\",\n      \"properties\": {\n        \"dtype\": \"category\",\n        \"num_unique_values\": 4,\n        \"samples\": [\n          \"Speaker 2\",\n          \"Speaker 4\",\n          \"Speaker 1\"\n        ],\n        \"semantic_type\": \"\",\n        \"description\": \"\"\n      }\n    },\n    {\n      \"column\": \"Transcript\",\n      \"properties\": {\n        \"dtype\": \"string\",\n        \"num_unique_values\": 2861,\n        \"samples\": [\n          \"The determinant.\",\n          \"So now please tell me.\",\n          \"Have you studied the different optimizers in CNN?\"\n        ],\n        \"semantic_type\": \"\",\n        \"description\": \"\"\n      }\n    },\n    {\n      \"column\": \"Label\",\n      \"properties\": {\n        \"dtype\": \"category\",\n        \"num_unique_values\": 3,\n        \"samples\": [\n          \"Statement\",\n          \"Question\",\n          \"Answer\"\n        ],\n        \"semantic_type\": \"\",\n        \"description\": \"\"\n      }\n    },\n    {\n      \"column\": \"Numeric_Label\",\n      \"properties\": {\n        \"dtype\": \"number\",\n        \"std\": 0,\n        \"min\": -1,\n        \"max\": 1,\n        \"num_unique_values\": 3,\n        \"samples\": [\n          1,\n          -1,\n          0\n        ],\n        \"semantic_type\": \"\",\n        \"description\": \"\"\n      }\n    }\n  ]\n}"
            }
          },
          "metadata": {},
          "execution_count": 2
        }
      ]
    },
    {
      "cell_type": "code",
      "source": [
        "work_dataset = df['Numeric_Label']\n",
        "work_dataset\n"
      ],
      "metadata": {
        "colab": {
          "base_uri": "https://localhost:8080/",
          "height": 458
        },
        "id": "QFnSffytYryF",
        "outputId": "3803e85e-3619-43a0-9634-b66f44cfad6e"
      },
      "execution_count": 3,
      "outputs": [
        {
          "output_type": "execute_result",
          "data": {
            "text/plain": [
              "0       1\n",
              "1       1\n",
              "2       1\n",
              "3       1\n",
              "4      -1\n",
              "       ..\n",
              "3657    1\n",
              "3658    1\n",
              "3659   -1\n",
              "3660    1\n",
              "3661    1\n",
              "Name: Numeric_Label, Length: 3662, dtype: int64"
            ],
            "text/html": [
              "<div>\n",
              "<style scoped>\n",
              "    .dataframe tbody tr th:only-of-type {\n",
              "        vertical-align: middle;\n",
              "    }\n",
              "\n",
              "    .dataframe tbody tr th {\n",
              "        vertical-align: top;\n",
              "    }\n",
              "\n",
              "    .dataframe thead th {\n",
              "        text-align: right;\n",
              "    }\n",
              "</style>\n",
              "<table border=\"1\" class=\"dataframe\">\n",
              "  <thead>\n",
              "    <tr style=\"text-align: right;\">\n",
              "      <th></th>\n",
              "      <th>Numeric_Label</th>\n",
              "    </tr>\n",
              "  </thead>\n",
              "  <tbody>\n",
              "    <tr>\n",
              "      <th>0</th>\n",
              "      <td>1</td>\n",
              "    </tr>\n",
              "    <tr>\n",
              "      <th>1</th>\n",
              "      <td>1</td>\n",
              "    </tr>\n",
              "    <tr>\n",
              "      <th>2</th>\n",
              "      <td>1</td>\n",
              "    </tr>\n",
              "    <tr>\n",
              "      <th>3</th>\n",
              "      <td>1</td>\n",
              "    </tr>\n",
              "    <tr>\n",
              "      <th>4</th>\n",
              "      <td>-1</td>\n",
              "    </tr>\n",
              "    <tr>\n",
              "      <th>...</th>\n",
              "      <td>...</td>\n",
              "    </tr>\n",
              "    <tr>\n",
              "      <th>3657</th>\n",
              "      <td>1</td>\n",
              "    </tr>\n",
              "    <tr>\n",
              "      <th>3658</th>\n",
              "      <td>1</td>\n",
              "    </tr>\n",
              "    <tr>\n",
              "      <th>3659</th>\n",
              "      <td>-1</td>\n",
              "    </tr>\n",
              "    <tr>\n",
              "      <th>3660</th>\n",
              "      <td>1</td>\n",
              "    </tr>\n",
              "    <tr>\n",
              "      <th>3661</th>\n",
              "      <td>1</td>\n",
              "    </tr>\n",
              "  </tbody>\n",
              "</table>\n",
              "<p>3662 rows × 1 columns</p>\n",
              "</div><br><label><b>dtype:</b> int64</label>"
            ]
          },
          "metadata": {},
          "execution_count": 3
        }
      ]
    },
    {
      "cell_type": "code",
      "source": [
        "X = df.drop(columns=['Numeric_Label'])  # Features (all columns except the target)\n",
        "y = df['Numeric_Label']  # Target (the column you're predicting)\n",
        "\n"
      ],
      "metadata": {
        "id": "FU_afMDyYylV"
      },
      "execution_count": 4,
      "outputs": []
    },
    {
      "cell_type": "code",
      "source": [
        "encoder = OneHotEncoder(sparse=False)  # sparse=False to get a dense array\n",
        "\n",
        "# Apply the encoder to all columns (if all are categorical)\n",
        "X_encoded = encoder.fit_transform(X)\n",
        "\n",
        "# Step 4: Split the encoded data into training and test sets\n",
        "X_train, X_test, y_train, y_test = train_test_split(X_encoded, y, test_size=0.2, random_state=42)\n"
      ],
      "metadata": {
        "colab": {
          "base_uri": "https://localhost:8080/"
        },
        "id": "YVTf6DDrZOa3",
        "outputId": "df28c94b-f63a-47b9-f32c-8809142e73c7"
      },
      "execution_count": 5,
      "outputs": [
        {
          "output_type": "stream",
          "name": "stderr",
          "text": [
            "/usr/local/lib/python3.10/dist-packages/sklearn/preprocessing/_encoders.py:975: FutureWarning: `sparse` was renamed to `sparse_output` in version 1.2 and will be removed in 1.4. `sparse_output` is ignored unless you leave `sparse` to its default value.\n",
            "  warnings.warn(\n"
          ]
        }
      ]
    },
    {
      "cell_type": "code",
      "source": [
        "from sklearn.linear_model import LinearRegression\n",
        "reg = LinearRegression().fit(X_train, y_train)   # Train the model with LogisticRegression for classification\n",
        "y_train_pred = reg.predict(X_train)   # Predict on the training data\n",
        "\n"
      ],
      "metadata": {
        "id": "Pkh6NStjdGOt"
      },
      "execution_count": 6,
      "outputs": []
    },
    {
      "cell_type": "code",
      "source": [
        "y_train_pred"
      ],
      "metadata": {
        "colab": {
          "base_uri": "https://localhost:8080/"
        },
        "id": "6dCn_ZHvdQh0",
        "outputId": "31bdec13-590d-4dc0-efb9-0cb6203fa94e"
      },
      "execution_count": 7,
      "outputs": [
        {
          "output_type": "execute_result",
          "data": {
            "text/plain": [
              "array([ 1.,  1., -1., ...,  1., -1.,  1.])"
            ]
          },
          "metadata": {},
          "execution_count": 7
        }
      ]
    },
    {
      "cell_type": "code",
      "source": [
        "\n",
        "# MSE (Mean Squared Error)\n",
        "mse_train = mean_squared_error(y_train, y_train_pred)\n",
        "\n",
        "# RMSE (Root Mean Squared Error)\n",
        "rmse_train = np.sqrt(mse_train)\n",
        "\n",
        "# MAPE (Mean Absolute Percentage Error)\n",
        "mape_train = np.mean(np.abs((y_train - y_train_pred) / y_train)) * 100\n",
        "\n",
        "# R2 Score\n",
        "r2_train = r2_score(y_train, y_train_pred)\n",
        "\n",
        "# Display the metrics\n",
        "print(f\"Training Data - MSE: {mse_train}, RMSE: {rmse_train}, MAPE: {mape_train}, R2: {r2_train}\")\n"
      ],
      "metadata": {
        "colab": {
          "base_uri": "https://localhost:8080/"
        },
        "id": "_q6hKAV7dgga",
        "outputId": "95f3e9d7-280c-492e-9281-594f6d6c2951"
      },
      "execution_count": 8,
      "outputs": [
        {
          "output_type": "stream",
          "name": "stdout",
          "text": [
            "Training Data - MSE: 8.772053937009818e-30, RMSE: 2.961765341314166e-15, MAPE: inf, R2: 1.0\n"
          ]
        }
      ]
    },
    {
      "cell_type": "code",
      "source": [
        "# Perform k-means clustering on your data. Please remove / ignore the target variable for\n",
        "# performing clustering. Sample code suggested below.\n",
        "from sklearn.cluster import KMeans\n",
        "\n",
        "k_means = KMeans(n_clusters=2, random_state=42, n_init=\"auto\")\n",
        "k_means.fit(X_train, y_train)\n",
        "\n",
        "k_means.cluster_centers_\n"
      ],
      "metadata": {
        "id": "l1vNZH8feXhA",
        "colab": {
          "base_uri": "https://localhost:8080/"
        },
        "outputId": "9c49365d-f48d-4a40-8b45-ca24bdd93d80"
      },
      "execution_count": 10,
      "outputs": [
        {
          "output_type": "execute_result",
          "data": {
            "text/plain": [
              "array([[3.72902424e-03, 1.24300808e-03, 3.10752020e-03, ...,\n",
              "        5.46923555e-02, 3.12616532e-01, 6.32691112e-01],\n",
              "       [1.25767452e-17, 1.65882932e-17, 1.51515152e-03, ...,\n",
              "        6.06060606e-01, 9.31818182e-02, 3.00757576e-01]])"
            ]
          },
          "metadata": {},
          "execution_count": 10
        }
      ]
    },
    {
      "cell_type": "code",
      "source": [
        "from sklearn.metrics import silhouette_score, calinski_harabasz_score, davies_bouldin_score\n",
        "\n",
        "SH = silhouette_score(X_train, k_means.labels_)\n",
        "CH = calinski_harabasz_score(X_train, k_means.labels_)\n",
        "DB = davies_bouldin_score(X_train, k_means.labels_)\n",
        "\n",
        "print(f\"SH = {SH}\")\n",
        "print(f\"CH = {CH}\")\n",
        "print(f\"DB = {DB}\")"
      ],
      "metadata": {
        "colab": {
          "base_uri": "https://localhost:8080/"
        },
        "id": "gBwp36kl2zGN",
        "outputId": "8ba6f736-85ee-415e-8b8d-2d0797a8dc37"
      },
      "execution_count": 12,
      "outputs": [
        {
          "output_type": "stream",
          "name": "stdout",
          "text": [
            "SH = 0.11944963774148291\n",
            "CH = 402.79827508435454\n",
            "DB = 2.676107649267565\n"
          ]
        }
      ]
    },
    {
      "cell_type": "code",
      "source": [
        "# A6\n",
        "import matplotlib.pyplot as plt\n",
        "from sklearn.cluster import KMeans\n",
        "from sklearn.metrics import silhouette_score, calinski_harabasz_score, davies_bouldin_score\n",
        "\n",
        "k_values = range(2, 20)\n",
        "SH_scores = []\n",
        "CH_scores = []\n",
        "DB_scores = []\n",
        "\n",
        "for k in k_values:\n",
        "    kmeans = KMeans(n_clusters=k, n_init=\"auto\")\n",
        "    kmeans.fit(X_train)\n",
        "\n",
        "    SH = silhouette_score(X_train, kmeans.labels_)\n",
        "    CH = calinski_harabasz_score(X_train, kmeans.labels_)\n",
        "    DB = davies_bouldin_score(X_train, kmeans.labels_)\n",
        "\n",
        "    SH_scores.append(SH)\n",
        "    CH_scores.append(CH)\n",
        "    DB_scores.append(DB)\n",
        "\n",
        "plt.plot(k_values, SH_scores, label=\"SH\")\n",
        "plt.plot(k_values, CH_scores, label=\"CH\")\n",
        "plt.plot(k_values, DB_scores, label=\"DB\")\n",
        "plt.legend()\n",
        "\n",
        "plt.title(\"Optimal Cluster Count\")\n",
        "plt.xlabel(\"k values\")\n",
        "plt.ylabel(\"Scores\")\n",
        "plt.show()"
      ],
      "metadata": {
        "colab": {
          "base_uri": "https://localhost:8080/",
          "height": 472
        },
        "id": "_VNPgQkJ25mP",
        "outputId": "3b7cc67e-6999-45fe-dc69-20a2f6b2e550"
      },
      "execution_count": 14,
      "outputs": [
        {
          "output_type": "display_data",
          "data": {
            "text/plain": [
              "<Figure size 640x480 with 1 Axes>"
            ],
            "image/png": "[encoded data removed]"
          },
          "metadata": {}
        }
      ]
    },
    {
      "cell_type": "code",
      "source": [
        "# A7\n",
        "import matplotlib.pyplot as plt\n",
        "\n",
        "distortions = []\n",
        "k_values = range(2, 20)\n",
        "\n",
        "for k in k_values:\n",
        "  kmeans = KMeans(n_clusters=k, n_init=\"auto\")\n",
        "  kmeans.fit(X_train, y_train)\n",
        "  distortions.append(kmeans.inertia_)\n",
        "\n",
        "plt.plot(distortions, k_values)\n",
        "plt.title(\"Elbow plot\")\n",
        "plt.xlabel(\"Distortions\")\n",
        "plt.ylabel(\"k values\")\n",
        "plt.show()"
      ],
      "metadata": {
        "colab": {
          "base_uri": "https://localhost:8080/",
          "height": 472
        },
        "id": "Zf9U5jaH3VAE",
        "outputId": "3a29407b-dc42-4fe4-c730-5259af1ffa78"
      },
      "execution_count": 15,
      "outputs": [
        {
          "output_type": "display_data",
          "data": {
            "text/plain": [
              "<Figure size 640x480 with 1 Axes>"
            ],
            "image/png": "[encoded data removed]"
          },
          "metadata": {}
        }
      ]
    }
  ]
}